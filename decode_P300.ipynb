{
 "cells": [
  {
   "cell_type": "code",
   "execution_count": 1,
   "metadata": {},
   "outputs": [],
   "source": [
    "from sklearn.externals import joblib # to save model\n",
    "\n",
    "from P300.data import load_data\n",
    "\n",
    "# confusion matrix\n",
    "from sklearn import metrics\n",
    "# http://scikit-learn.org/stable/modules/generated/sklearn.metrics.confusion_matrix.html\n",
    "\n",
    "\n",
    "import matplotlib.pyplot as plt\n",
    "%matplotlib inline \n",
    "\n",
    "\n",
    "%load_ext autoreload\n",
    "%autoreload 2\n",
    "\n",
    "import numpy as np"
   ]
  },
  {
   "cell_type": "code",
   "execution_count": 2,
   "metadata": {},
   "outputs": [
    {
     "name": "stdout",
     "output_type": "stream",
     "text": [
      "KNeighborsClassifier(algorithm='auto', leaf_size=30, metric='minkowski',\n",
      "           metric_params=None, n_jobs=-1, n_neighbors=5, p=2,\n",
      "           weights='uniform')\n"
     ]
    }
   ],
   "source": [
    "# load classifier \n",
    "model_folder='model'\n",
    "\n",
    "subject_train='A'\n",
    "#subject='B'\n",
    "#subject_train='AandB'\n",
    "\n",
    "#clf_name = 'LR'\n",
    "#clf_name = 'RF'\n",
    "clf_name = 'kNN'\n",
    "#clf_name = 'SVM'\n",
    "\n",
    "num_ch=64\n",
    "clf_filename=\"{}/{}_{}_ch{}.model\".format(model_folder, subject_train, clf_name,num_ch)\n",
    "clf = joblib.load(clf_filename)\n",
    "print(clf)"
   ]
  },
  {
   "cell_type": "markdown",
   "metadata": {},
   "source": [
    "## simple test"
   ]
  },
  {
   "cell_type": "code",
   "execution_count": 3,
   "metadata": {},
   "outputs": [
    {
     "name": "stdout",
     "output_type": "stream",
     "text": [
      "loaded:\n",
      "(100, 180, 896)\n",
      "(100, 180, 1)\n",
      "(100, 180, 1)\n",
      "stacked:\n",
      "(18000, 896)\n",
      "(18000,)\n",
      "(18000,)\n"
     ]
    }
   ],
   "source": [
    "# load test data\n",
    "subject_test = 'A'\n",
    "#subject_test = 'B'\n",
    "#X_train, Y_train, Code_train = load_data(subject, 'train', 85)\n",
    "X_test, Y_test, Code_test = load_data(subject_test, 'test', 100)"
   ]
  },
  {
   "cell_type": "code",
   "execution_count": 4,
   "metadata": {},
   "outputs": [
    {
     "name": "stdout",
     "output_type": "stream",
     "text": [
      "0.8052777777777778\n"
     ]
    },
    {
     "data": {
      "text/plain": [
       "array([[  175,  2825],\n",
       "       [  680, 14320]])"
      ]
     },
     "execution_count": 4,
     "metadata": {},
     "output_type": "execute_result"
    }
   ],
   "source": [
    "# test\n",
    "Y_est=clf.predict(X_test)\n",
    "\n",
    "accuracy = sum(Y_test==Y_est) / len(Y_test)\n",
    "print(accuracy)\n",
    "\n",
    "metrics.confusion_matrix(Y_test,Y_est,labels=(1,-1))"
   ]
  },
  {
   "cell_type": "code",
   "execution_count": 5,
   "metadata": {},
   "outputs": [
    {
     "name": "stdout",
     "output_type": "stream",
     "text": [
      "loaded:\n",
      "(100, 180, 896)\n",
      "(100, 180, 1)\n",
      "(100, 180, 1)\n",
      "stacked:\n",
      "(18000, 896)\n",
      "(18000,)\n",
      "(18000,)\n"
     ]
    }
   ],
   "source": [
    "# load test data\n",
    "#subject_test = 'A'\n",
    "subject_test = 'B'\n",
    "#X_train, Y_train, Code_train = load_data(subject, 'train', 85)\n",
    "X_test, Y_test, Code_test = load_data(subject_test, 'test', 100)"
   ]
  },
  {
   "cell_type": "code",
   "execution_count": 6,
   "metadata": {},
   "outputs": [
    {
     "name": "stdout",
     "output_type": "stream",
     "text": [
      "0.8087777777777778\n"
     ]
    },
    {
     "data": {
      "text/plain": [
       "array([[  133,  2867],\n",
       "       [  575, 14425]])"
      ]
     },
     "execution_count": 6,
     "metadata": {},
     "output_type": "execute_result"
    }
   ],
   "source": [
    "# test\n",
    "Y_est=clf.predict(X_test)\n",
    "\n",
    "accuracy = sum(Y_test==Y_est) / len(Y_test)\n",
    "print(accuracy)\n",
    "\n",
    "metrics.confusion_matrix(Y_test,Y_est,labels=(1,-1))"
   ]
  },
  {
   "cell_type": "markdown",
   "metadata": {},
   "source": [
    "## probabilistic decoding"
   ]
  },
  {
   "cell_type": "code",
   "execution_count": 7,
   "metadata": {},
   "outputs": [
    {
     "data": {
      "text/plain": [
       "['__abstractmethods__',\n",
       " '__class__',\n",
       " '__delattr__',\n",
       " '__dict__',\n",
       " '__dir__',\n",
       " '__doc__',\n",
       " '__eq__',\n",
       " '__format__',\n",
       " '__ge__',\n",
       " '__getattribute__',\n",
       " '__getstate__',\n",
       " '__gt__',\n",
       " '__hash__',\n",
       " '__init__',\n",
       " '__init_subclass__',\n",
       " '__le__',\n",
       " '__lt__',\n",
       " '__module__',\n",
       " '__ne__',\n",
       " '__new__',\n",
       " '__reduce__',\n",
       " '__reduce_ex__',\n",
       " '__repr__',\n",
       " '__setattr__',\n",
       " '__setstate__',\n",
       " '__sizeof__',\n",
       " '__str__',\n",
       " '__subclasshook__',\n",
       " '__weakref__',\n",
       " '_abc_impl',\n",
       " '_check_algorithm_metric',\n",
       " '_estimator_type',\n",
       " '_fit',\n",
       " '_fit_X',\n",
       " '_fit_method',\n",
       " '_get_param_names',\n",
       " '_kneighbors_reduce_func',\n",
       " '_pairwise',\n",
       " '_tree',\n",
       " '_y',\n",
       " 'algorithm',\n",
       " 'classes_',\n",
       " 'effective_metric_',\n",
       " 'effective_metric_params_',\n",
       " 'fit',\n",
       " 'get_params',\n",
       " 'kneighbors',\n",
       " 'kneighbors_graph',\n",
       " 'leaf_size',\n",
       " 'metric',\n",
       " 'metric_params',\n",
       " 'n_jobs',\n",
       " 'n_neighbors',\n",
       " 'outputs_2d_',\n",
       " 'p',\n",
       " 'predict',\n",
       " 'predict_proba',\n",
       " 'radius',\n",
       " 'score',\n",
       " 'set_params',\n",
       " 'weights']"
      ]
     },
     "execution_count": 7,
     "metadata": {},
     "output_type": "execute_result"
    }
   ],
   "source": [
    "dir(clf)"
   ]
  },
  {
   "cell_type": "code",
   "execution_count": 8,
   "metadata": {},
   "outputs": [],
   "source": [
    "def predict_proba_SVM(clf, X, a, b):\n",
    "    f = clf.decision_function(X_test)\n",
    "    \n",
    "    prob = 1.0/(1+np.exp(f*a+b))\n",
    "    return prob\n",
    "\n",
    "def predict_log_proba_SVM(clf, X, a, b):\n",
    "    \n",
    "    return np.log(predict_proba_SVM(clf, X, a, b))\n",
    "    "
   ]
  },
  {
   "cell_type": "code",
   "execution_count": 9,
   "metadata": {},
   "outputs": [],
   "source": [
    "# for SVM\n",
    "from sklearn.svm.classes import LinearSVC\n",
    "\n",
    "\n",
    "clf.classes_\n",
    "clf.__class__  #is sklearn.svm.classes.LinearSVC\n",
    "if type(clf) is LinearSVC: \n",
    "    \n",
    "    f = clf.decision_function(X_test)\n",
    "    \n",
    "    # load Platt coefficients a and b \n",
    "    #(a,b) = np.loadtxt('model/{}_SVM_ab.txt'.format(model_subject))\n",
    "    (a,b) = np.loadtxt('model/{}_SVM_ab.txt'.format(subject_train))\n",
    "    \n",
    "    prob = predict_proba_SVM(clf, X_test, a, b)\n",
    "    log_prob = predict_log_proba_SVM(clf, X_test, a, b)\n",
    "\n",
    "    plt.subplot(221)    \n",
    "    plt.hist(f)\n",
    "    plt.subplot(222)    \n",
    "    plt.plot(f, prob, '.', alpha=0.05)\n",
    "    plt.xlabel('f')\n",
    "    plt.ylabel('probability')\n",
    "    plt.subplot(223)\n",
    "    plt.hist(prob)    \n",
    "    plt.subplot(224)\n",
    "    plt.hist(log_prob)    "
   ]
  },
  {
   "cell_type": "code",
   "execution_count": 18,
   "metadata": {},
   "outputs": [
    {
     "ename": "AttributeError",
     "evalue": "'KNeighborsClassifier' object has no attribute 'predict_log_proba'",
     "output_type": "error",
     "traceback": [
      "\u001b[0;31m---------------------------------------------------------------------------\u001b[0m",
      "\u001b[0;31mAttributeError\u001b[0m                            Traceback (most recent call last)",
      "\u001b[0;32m<ipython-input-18-7ab696a1983a>\u001b[0m in \u001b[0;36m<module>\u001b[0;34m\u001b[0m\n\u001b[1;32m      4\u001b[0m     \u001b[0mplt\u001b[0m\u001b[0;34m.\u001b[0m\u001b[0mhist\u001b[0m\u001b[0;34m(\u001b[0m\u001b[0mprob\u001b[0m\u001b[0;34m)\u001b[0m\u001b[0;34m\u001b[0m\u001b[0;34m\u001b[0m\u001b[0m\n\u001b[1;32m      5\u001b[0m \u001b[0;34m\u001b[0m\u001b[0m\n\u001b[0;32m----> 6\u001b[0;31m     \u001b[0mlog_prob\u001b[0m \u001b[0;34m=\u001b[0m \u001b[0mclf\u001b[0m\u001b[0;34m.\u001b[0m\u001b[0mpredict_log_proba\u001b[0m\u001b[0;34m(\u001b[0m\u001b[0mX_test\u001b[0m\u001b[0;34m)\u001b[0m\u001b[0;34m\u001b[0m\u001b[0;34m\u001b[0m\u001b[0m\n\u001b[0m\u001b[1;32m      7\u001b[0m     \u001b[0;31m#plt.hist(log_prob)\u001b[0m\u001b[0;34m\u001b[0m\u001b[0;34m\u001b[0m\u001b[0;34m\u001b[0m\u001b[0m\n",
      "\u001b[0;31mAttributeError\u001b[0m: 'KNeighborsClassifier' object has no attribute 'predict_log_proba'"
     ]
    },
    {
     "data": {
      "image/png": "[encoded data removed]",
      "text/plain": [
       "<Figure size 432x288 with 1 Axes>"
      ]
     },
     "metadata": {
      "needs_background": "light"
     },
     "output_type": "display_data"
    }
   ],
   "source": [
    "if hasattr( clf, 'predict_proba'):\n",
    "    # predict prob\n",
    "    prob = clf.predict_proba(X_test)\n",
    "    plt.hist(prob)\n",
    "\n",
    "    log_prob = clf.predict_log_proba(X_test)\n",
    "    #plt.hist(log_prob)"
   ]
  },
  {
   "cell_type": "code",
   "execution_count": null,
   "metadata": {},
   "outputs": [],
   "source": [
    "np.max(log_prob)"
   ]
  },
  {
   "cell_type": "code",
   "execution_count": null,
   "metadata": {},
   "outputs": [],
   "source": [
    "prob.shape"
   ]
  },
  {
   "cell_type": "code",
   "execution_count": null,
   "metadata": {},
   "outputs": [],
   "source": [
    "X_test.shape"
   ]
  },
  {
   "cell_type": "code",
   "execution_count": null,
   "metadata": {},
   "outputs": [],
   "source": [
    "log_prob.shape"
   ]
  },
  {
   "cell_type": "code",
   "execution_count": null,
   "metadata": {},
   "outputs": [],
   "source": [
    "plt.hist(log_prob[:,0])"
   ]
  },
  {
   "cell_type": "code",
   "execution_count": null,
   "metadata": {},
   "outputs": [],
   "source": [
    "plt.hist(log_prob[:,1]-log_prob[:,0])"
   ]
  },
  {
   "cell_type": "markdown",
   "metadata": {},
   "source": [
    "## decode after averaging over trials"
   ]
  },
  {
   "cell_type": "code",
   "execution_count": null,
   "metadata": {},
   "outputs": [],
   "source": [
    "from P300.data import sort_by_code\n",
    "\n",
    "XX, YY, CC= sort_by_code(X_test, Y_test, Code_test)"
   ]
  },
  {
   "cell_type": "code",
   "execution_count": null,
   "metadata": {},
   "outputs": [],
   "source": [
    "print(XX.shape)\n",
    "print(YY.shape)\n",
    "print(CC.shape)"
   ]
  },
  {
   "cell_type": "code",
   "execution_count": null,
   "metadata": {},
   "outputs": [],
   "source": [
    "# calc log prob for SVM\n",
    "if type(clf) is LinearSVC: \n",
    "    log_prob = predict_log_proba_SVM(clf, XX, a, b)\n",
    "log_prob = log_prob.reshape(-1,15,12)\n",
    "print(log_prob.shape)    \n",
    "\n",
    "# accumulate log_prob over trials\n",
    "log_prob_diff=np.sum(log_prob,axis=1)\n",
    "print(log_prob_diff.shape)\n"
   ]
  },
  {
   "cell_type": "code",
   "execution_count": 22,
   "metadata": {},
   "outputs": [
    {
     "name": "stdout",
     "output_type": "stream",
     "text": [
      "(100, 15, 12, 2)\n",
      "(100, 12)\n"
     ]
    },
    {
     "name": "stderr",
     "output_type": "stream",
     "text": [
      "/Users/yyoo/tf11/lib/python3.7/site-packages/ipykernel_launcher.py:8: RuntimeWarning: divide by zero encountered in log\n",
      "  \n",
      "/Users/yyoo/tf11/lib/python3.7/site-packages/ipykernel_launcher.py:14: RuntimeWarning: invalid value encountered in subtract\n",
      "  \n"
     ]
    }
   ],
   "source": [
    "# calc log prob for other classifiers\n",
    "if hasattr( clf, 'predict_proba'):\n",
    "    #Yest=clf.predict(XX)\n",
    "    #clf.score(XX, YY)\n",
    "    if hasattr( clf, 'predict_log_proba'):\n",
    "        log_prob = clf.predict_log_proba(XX)\n",
    "    else:\n",
    "        log_prob = np.log(clf.predict_proba(XX))\n",
    "        \n",
    "    log_prob=log_prob.reshape(-1,15,12,2)\n",
    "    print(log_prob.shape)\n",
    "\n",
    "    # accumulate log_prob over trials\n",
    "    log_prob_diff=np.sum(log_prob,axis=1)[:,:,1]-np.sum(log_prob,axis=1)[:,:,0]\n",
    "    print(log_prob_diff.shape)"
   ]
  },
  {
   "cell_type": "code",
   "execution_count": 23,
   "metadata": {},
   "outputs": [
    {
     "data": {
      "text/plain": [
       "array([[-inf, -inf, -inf, ..., -inf, -inf, -inf],\n",
       "       [-inf, -inf, -inf, ..., -inf, -inf, -inf],\n",
       "       [-inf, -inf, -inf, ..., -inf, -inf, -inf],\n",
       "       ...,\n",
       "       [-inf, -inf, -inf, ..., -inf, -inf, -inf],\n",
       "       [-inf, -inf, -inf, ..., -inf, -inf, -inf],\n",
       "       [-inf, -inf, -inf, ..., -inf, -inf, -inf]])"
      ]
     },
     "execution_count": 23,
     "metadata": {},
     "output_type": "execute_result"
    }
   ],
   "source": [
    "log_prob_diff"
   ]
  },
  {
   "cell_type": "code",
   "execution_count": 24,
   "metadata": {},
   "outputs": [
    {
     "data": {
      "text/plain": [
       "(100, 12)"
      ]
     },
     "execution_count": 24,
     "metadata": {},
     "output_type": "execute_result"
    }
   ],
   "source": [
    "YY = YY.reshape(-1,15,12)\n",
    "YY.shape\n",
    "#YY[1,:,1]\n",
    "YY_trial=YY[:,0,:]\n",
    "YY_trial.shape"
   ]
  },
  {
   "cell_type": "code",
   "execution_count": 25,
   "metadata": {},
   "outputs": [
    {
     "data": {
      "text/plain": [
       "[<matplotlib.lines.Line2D at 0x132759080>]"
      ]
     },
     "execution_count": 25,
     "metadata": {},
     "output_type": "execute_result"
    },
    {
     "data": {
      "image/png": "[encoded data removed]",
      "text/plain": [
       "<Figure size 432x288 with 2 Axes>"
      ]
     },
     "metadata": {
      "needs_background": "light"
     },
     "output_type": "display_data"
    }
   ],
   "source": [
    "epoch = 0\n",
    "plt.subplot(211)\n",
    "plt.plot(log_prob_diff[epoch,:])\n",
    "plt.subplot(212)\n",
    "plt.plot(YY_trial[epoch,:])"
   ]
  },
  {
   "cell_type": "code",
   "execution_count": 26,
   "metadata": {},
   "outputs": [
    {
     "name": "stderr",
     "output_type": "stream",
     "text": [
      "/Users/yyoo/tf11/lib/python3.7/site-packages/ipykernel_launcher.py:1: RuntimeWarning: invalid value encountered in greater\n",
      "  \"\"\"Entry point for launching an IPython kernel.\n"
     ]
    },
    {
     "data": {
      "text/plain": [
       "array([0, 0, 0, 0, 0, 0, 0, 0, 0, 0, 0, 0, 0, 0, 0, 0, 0, 0, 0, 0, 0, 0,\n",
       "       0, 0, 0, 0, 0, 0, 0, 0, 0, 0, 0, 0, 0, 0, 0, 0, 0, 0, 0, 0, 0, 0,\n",
       "       0, 0, 0, 0, 0, 0, 0, 0, 0, 0, 0, 0, 0, 0, 0, 0, 0, 0, 0, 0, 0, 0,\n",
       "       0, 0, 0, 0, 0, 0, 0, 0, 0, 0, 0, 0, 0, 0, 0, 0, 0, 0, 0, 0, 0, 0,\n",
       "       0, 0, 0, 0, 0, 0, 0, 0, 0, 0, 0, 0])"
      ]
     },
     "execution_count": 26,
     "metadata": {},
     "output_type": "execute_result"
    }
   ],
   "source": [
    "np.sum(log_prob_diff > 0 , axis=1)"
   ]
  },
  {
   "cell_type": "code",
   "execution_count": 27,
   "metadata": {},
   "outputs": [
    {
     "name": "stdout",
     "output_type": "stream",
     "text": [
      "(100, 12)\n"
     ]
    },
    {
     "data": {
      "text/plain": [
       "[<matplotlib.lines.Line2D at 0x1328fee10>]"
      ]
     },
     "execution_count": 27,
     "metadata": {},
     "output_type": "execute_result"
    },
    {
     "data": {
      "image/png": "[encoded data removed]",
      "text/plain": [
       "<Figure size 432x288 with 1 Axes>"
      ]
     },
     "metadata": {
      "needs_background": "light"
     },
     "output_type": "display_data"
    }
   ],
   "source": [
    "from P300.data import decode_rc\n",
    "\n",
    "decoded = decode_rc(log_prob_diff)\n",
    "print(decoded.shape)\n",
    "plt.plot(decoded[epoch,:])"
   ]
  },
  {
   "cell_type": "code",
   "execution_count": 28,
   "metadata": {},
   "outputs": [
    {
     "data": {
      "text/plain": [
       "0.03"
      ]
     },
     "execution_count": 28,
     "metadata": {},
     "output_type": "execute_result"
    }
   ],
   "source": [
    "from P300.data import calc_accuracy_rc\n",
    "\n",
    "calc_accuracy_rc(YY_trial, decoded)"
   ]
  },
  {
   "cell_type": "code",
   "execution_count": null,
   "metadata": {},
   "outputs": [],
   "source": []
  }
 ],
 "metadata": {
  "kernelspec": {
   "display_name": "Python 3",
   "language": "python",
   "name": "python3"
  },
  "language_info": {
   "codemirror_mode": {
    "name": "ipython",
    "version": 3
   },
   "file_extension": ".py",
   "mimetype": "text/x-python",
   "name": "python",
   "nbconvert_exporter": "python",
   "pygments_lexer": "ipython3",
   "version": "3.7.1"
  }
 },
 "nbformat": 4,
 "nbformat_minor": 2
}
