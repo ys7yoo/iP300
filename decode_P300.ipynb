{
 "cells": [
  {
   "cell_type": "code",
   "execution_count": 1,
   "metadata": {},
   "outputs": [],
   "source": [
    "from sklearn.externals import joblib # to save model\n",
    "\n",
    "from P300.data import load_data\n",
    "\n",
    "# confusion matrix\n",
    "from sklearn import metrics\n",
    "# http://scikit-learn.org/stable/modules/generated/sklearn.metrics.confusion_matrix.html\n",
    "\n",
    "\n",
    "import matplotlib.pyplot as plt\n",
    "%matplotlib inline \n",
    "\n",
    "\n",
    "%load_ext autoreload\n",
    "%autoreload 2\n",
    "\n",
    "import numpy as np"
   ]
  },
  {
   "cell_type": "code",
   "execution_count": 2,
   "metadata": {},
   "outputs": [
    {
     "name": "stdout",
     "output_type": "stream",
     "text": [
      "LogisticRegression(C=1.0, class_weight='balanced', dual=False,\n",
      "          fit_intercept=True, intercept_scaling=1, max_iter=100,\n",
      "          multi_class='warn', n_jobs=-1, penalty='l2', random_state=None,\n",
      "          solver='warn', tol=0.0001, verbose=0, warm_start=False)\n"
     ]
    }
   ],
   "source": [
    "# load classifier \n",
    "model_folder='model'\n",
    "\n",
    "subject_train='A'\n",
    "#subject='B'\n",
    "#subject_train='AandB'\n",
    "\n",
    "clf_name = 'LR'\n",
    "#clf_name = 'RF'\n",
    "#clf_name = 'SVM'\n",
    "num_ch=64\n",
    "clf_filename=\"{}/{}_{}_ch{}.model\".format(model_folder, subject_train, clf_name,num_ch)\n",
    "clf = joblib.load(clf_filename)\n",
    "print(clf)"
   ]
  },
  {
   "cell_type": "markdown",
   "metadata": {},
   "source": [
    "## simple test"
   ]
  },
  {
   "cell_type": "code",
   "execution_count": 3,
   "metadata": {},
   "outputs": [
    {
     "name": "stdout",
     "output_type": "stream",
     "text": [
      "loaded:\n",
      "(100, 180, 896)\n",
      "(100, 180, 1)\n",
      "(100, 180, 1)\n",
      "stacked:\n",
      "(18000, 896)\n",
      "(18000,)\n",
      "(18000,)\n"
     ]
    }
   ],
   "source": [
    "# load test data\n",
    "subject_test = 'A'\n",
    "#subject_test = 'B'\n",
    "#X_train, Y_train, Code_train = load_data(subject, 'train', 85)\n",
    "X_test, Y_test, Code_test = load_data(subject_test, 'test', 100)"
   ]
  },
  {
   "cell_type": "code",
   "execution_count": 4,
   "metadata": {},
   "outputs": [
    {
     "name": "stdout",
     "output_type": "stream",
     "text": [
      "0.7347777777777778\n"
     ]
    },
    {
     "data": {
      "text/plain": [
       "array([[ 1901,  1099],\n",
       "       [ 3675, 11325]])"
      ]
     },
     "execution_count": 4,
     "metadata": {},
     "output_type": "execute_result"
    }
   ],
   "source": [
    "# test\n",
    "Y_est=clf.predict(X_test)\n",
    "\n",
    "accuracy = sum(Y_test==Y_est) / len(Y_test)\n",
    "print(accuracy)\n",
    "\n",
    "metrics.confusion_matrix(Y_test,Y_est,labels=(1,-1))"
   ]
  },
  {
   "cell_type": "code",
   "execution_count": 5,
   "metadata": {},
   "outputs": [
    {
     "name": "stdout",
     "output_type": "stream",
     "text": [
      "loaded:\n",
      "(100, 180, 896)\n",
      "(100, 180, 1)\n",
      "(100, 180, 1)\n",
      "stacked:\n",
      "(18000, 896)\n",
      "(18000,)\n",
      "(18000,)\n"
     ]
    }
   ],
   "source": [
    "# load test data\n",
    "#subject_test = 'A'\n",
    "subject_test = 'B'\n",
    "#X_train, Y_train, Code_train = load_data(subject, 'train', 85)\n",
    "X_test, Y_test, Code_test = load_data(subject_test, 'test', 100)"
   ]
  },
  {
   "cell_type": "code",
   "execution_count": 6,
   "metadata": {},
   "outputs": [
    {
     "name": "stdout",
     "output_type": "stream",
     "text": [
      "0.6494444444444445\n"
     ]
    },
    {
     "data": {
      "text/plain": [
       "array([[ 1188,  1812],\n",
       "       [ 4498, 10502]])"
      ]
     },
     "execution_count": 6,
     "metadata": {},
     "output_type": "execute_result"
    }
   ],
   "source": [
    "# test\n",
    "Y_est=clf.predict(X_test)\n",
    "\n",
    "accuracy = sum(Y_test==Y_est) / len(Y_test)\n",
    "print(accuracy)\n",
    "\n",
    "metrics.confusion_matrix(Y_test,Y_est,labels=(1,-1))"
   ]
  },
  {
   "cell_type": "markdown",
   "metadata": {},
   "source": [
    "## probabilistic decoding"
   ]
  },
  {
   "cell_type": "code",
   "execution_count": 7,
   "metadata": {},
   "outputs": [
    {
     "data": {
      "text/plain": [
       "['C',\n",
       " '__class__',\n",
       " '__delattr__',\n",
       " '__dict__',\n",
       " '__dir__',\n",
       " '__doc__',\n",
       " '__eq__',\n",
       " '__format__',\n",
       " '__ge__',\n",
       " '__getattribute__',\n",
       " '__getstate__',\n",
       " '__gt__',\n",
       " '__hash__',\n",
       " '__init__',\n",
       " '__init_subclass__',\n",
       " '__le__',\n",
       " '__lt__',\n",
       " '__module__',\n",
       " '__ne__',\n",
       " '__new__',\n",
       " '__reduce__',\n",
       " '__reduce_ex__',\n",
       " '__repr__',\n",
       " '__setattr__',\n",
       " '__setstate__',\n",
       " '__sizeof__',\n",
       " '__str__',\n",
       " '__subclasshook__',\n",
       " '__weakref__',\n",
       " '_estimator_type',\n",
       " '_get_param_names',\n",
       " '_predict_proba_lr',\n",
       " 'class_weight',\n",
       " 'classes_',\n",
       " 'coef_',\n",
       " 'decision_function',\n",
       " 'densify',\n",
       " 'dual',\n",
       " 'fit',\n",
       " 'fit_intercept',\n",
       " 'get_params',\n",
       " 'intercept_',\n",
       " 'intercept_scaling',\n",
       " 'max_iter',\n",
       " 'multi_class',\n",
       " 'n_iter_',\n",
       " 'n_jobs',\n",
       " 'penalty',\n",
       " 'predict',\n",
       " 'predict_log_proba',\n",
       " 'predict_proba',\n",
       " 'random_state',\n",
       " 'score',\n",
       " 'set_params',\n",
       " 'solver',\n",
       " 'sparsify',\n",
       " 'tol',\n",
       " 'verbose',\n",
       " 'warm_start']"
      ]
     },
     "execution_count": 7,
     "metadata": {},
     "output_type": "execute_result"
    }
   ],
   "source": [
    "dir(clf)"
   ]
  },
  {
   "cell_type": "code",
   "execution_count": 8,
   "metadata": {},
   "outputs": [],
   "source": [
    "def predict_proba_SVM(clf, X, a, b):\n",
    "    f = clf.decision_function(X_test)\n",
    "    \n",
    "    prob = 1.0/(1+np.exp(f*a+b))\n",
    "    return prob\n",
    "\n",
    "def predict_log_proba_SVM(clf, X, a, b):\n",
    "    \n",
    "    return np.log(predict_proba_SVM(clf, X, a, b))\n",
    "    "
   ]
  },
  {
   "cell_type": "code",
   "execution_count": 9,
   "metadata": {},
   "outputs": [],
   "source": [
    "# for SVM\n",
    "from sklearn.svm.classes import LinearSVC\n",
    "\n",
    "\n",
    "clf.classes_\n",
    "clf.__class__  #is sklearn.svm.classes.LinearSVC\n",
    "if type(clf) is LinearSVC: \n",
    "    \n",
    "    f = clf.decision_function(X_test)\n",
    "    \n",
    "    # load Platt coefficients a and b \n",
    "    #(a,b) = np.loadtxt('model/{}_SVM_ab.txt'.format(model_subject))\n",
    "    (a,b) = np.loadtxt('model/{}_SVM_ab.txt'.format(subject_train))\n",
    "    \n",
    "    prob = predict_proba_SVM(clf, X_test, a, b)\n",
    "    log_prob = predict_log_proba_SVM(clf, X_test, a, b)\n",
    "\n",
    "    plt.subplot(221)    \n",
    "    plt.hist(f)\n",
    "    plt.subplot(222)    \n",
    "    plt.plot(f, prob, '.', alpha=0.05)\n",
    "    plt.xlabel('f')\n",
    "    plt.ylabel('probability')\n",
    "    plt.subplot(223)\n",
    "    plt.hist(prob)    \n",
    "    plt.subplot(224)\n",
    "    plt.hist(log_prob)    "
   ]
  },
  {
   "cell_type": "code",
   "execution_count": 10,
   "metadata": {},
   "outputs": [
    {
     "data": {
      "image/png": "[encoded data removed]",
      "text/plain": [
       "<Figure size 432x288 with 1 Axes>"
      ]
     },
     "metadata": {
      "needs_background": "light"
     },
     "output_type": "display_data"
    }
   ],
   "source": [
    "if hasattr( clf, 'predict_log_proba'):\n",
    "    # predict prob\n",
    "    prob = clf.predict_proba(X_test)\n",
    "    plt.hist(prob)\n",
    "\n",
    "    log_prob = clf.predict_log_proba(X_test)\n",
    "    #plt.hist(log_prob)"
   ]
  },
  {
   "cell_type": "code",
   "execution_count": 11,
   "metadata": {},
   "outputs": [
    {
     "data": {
      "text/plain": [
       "-6.243721269655782e-07"
      ]
     },
     "execution_count": 11,
     "metadata": {},
     "output_type": "execute_result"
    }
   ],
   "source": [
    "np.max(log_prob)"
   ]
  },
  {
   "cell_type": "code",
   "execution_count": 12,
   "metadata": {},
   "outputs": [
    {
     "data": {
      "text/plain": [
       "(18000, 2)"
      ]
     },
     "execution_count": 12,
     "metadata": {},
     "output_type": "execute_result"
    }
   ],
   "source": [
    "prob.shape"
   ]
  },
  {
   "cell_type": "code",
   "execution_count": 13,
   "metadata": {},
   "outputs": [
    {
     "data": {
      "text/plain": [
       "(18000, 896)"
      ]
     },
     "execution_count": 13,
     "metadata": {},
     "output_type": "execute_result"
    }
   ],
   "source": [
    "X_test.shape"
   ]
  },
  {
   "cell_type": "code",
   "execution_count": 14,
   "metadata": {},
   "outputs": [
    {
     "data": {
      "text/plain": [
       "(18000, 2)"
      ]
     },
     "execution_count": 14,
     "metadata": {},
     "output_type": "execute_result"
    }
   ],
   "source": [
    "log_prob.shape"
   ]
  },
  {
   "cell_type": "code",
   "execution_count": 15,
   "metadata": {},
   "outputs": [
    {
     "data": {
      "text/plain": [
       "(array([1.0000e+00, 0.0000e+00, 0.0000e+00, 0.0000e+00, 0.0000e+00,\n",
       "        2.0000e+00, 1.3000e+01, 2.3400e+02, 1.7430e+03, 1.6007e+04]),\n",
       " array([-1.42865196e+01, -1.28579346e+01, -1.14293496e+01, -1.00007646e+01,\n",
       "        -8.57217963e+00, -7.14359464e+00, -5.71500964e+00, -4.28642465e+00,\n",
       "        -2.85783966e+00, -1.42925467e+00, -6.69673683e-04]),\n",
       " <a list of 10 Patch objects>)"
      ]
     },
     "execution_count": 15,
     "metadata": {},
     "output_type": "execute_result"
    },
    {
     "data": {
      "image/png": "[encoded data removed]",
      "text/plain": [
       "<Figure size 432x288 with 1 Axes>"
      ]
     },
     "metadata": {
      "needs_background": "light"
     },
     "output_type": "display_data"
    }
   ],
   "source": [
    "plt.hist(log_prob[:,0])"
   ]
  },
  {
   "cell_type": "code",
   "execution_count": 16,
   "metadata": {},
   "outputs": [
    {
     "data": {
      "text/plain": [
       "(array([4.800e+01, 1.242e+03, 7.148e+03, 7.905e+03, 1.576e+03, 7.800e+01,\n",
       "        2.000e+00, 0.000e+00, 0.000e+00, 1.000e+00]),\n",
       " array([-7.30838515, -5.14889474, -2.98940432, -0.82991391,  1.3295765 ,\n",
       "         3.48906691,  5.64855733,  7.80804774,  9.96753815, 12.12702856,\n",
       "        14.28651898]),\n",
       " <a list of 10 Patch objects>)"
      ]
     },
     "execution_count": 16,
     "metadata": {},
     "output_type": "execute_result"
    },
    {
     "data": {
      "image/png": "[encoded data removed]",
      "text/plain": [
       "<Figure size 432x288 with 1 Axes>"
      ]
     },
     "metadata": {
      "needs_background": "light"
     },
     "output_type": "display_data"
    }
   ],
   "source": [
    "plt.hist(log_prob[:,1]-log_prob[:,0])"
   ]
  },
  {
   "cell_type": "markdown",
   "metadata": {},
   "source": [
    "## decode after averaging over trials"
   ]
  },
  {
   "cell_type": "code",
   "execution_count": 17,
   "metadata": {},
   "outputs": [],
   "source": [
    "from P300.data import sort_by_code\n",
    "\n",
    "XX, YY, CC= sort_by_code(X_test, Y_test, Code_test)"
   ]
  },
  {
   "cell_type": "code",
   "execution_count": 18,
   "metadata": {},
   "outputs": [
    {
     "name": "stdout",
     "output_type": "stream",
     "text": [
      "(18000, 896)\n",
      "(18000, 1)\n",
      "(18000, 1)\n"
     ]
    }
   ],
   "source": [
    "print(XX.shape)\n",
    "print(YY.shape)\n",
    "print(CC.shape)"
   ]
  },
  {
   "cell_type": "code",
   "execution_count": 19,
   "metadata": {},
   "outputs": [
    {
     "name": "stdout",
     "output_type": "stream",
     "text": [
      "(200, 15, 12)\n",
      "(200, 12)\n"
     ]
    }
   ],
   "source": [
    "# calc log prob for SVM\n",
    "if type(clf) is LinearSVC: \n",
    "    log_prob = predict_log_proba_SVM(clf, XX, a, b)\n",
    "log_prob = log_prob.reshape(-1,15,12)\n",
    "print(log_prob.shape)    \n",
    "\n",
    "# accumulate log_prob over trials\n",
    "log_prob_diff=np.sum(log_prob,axis=1)\n",
    "print(log_prob_diff.shape)\n"
   ]
  },
  {
   "cell_type": "code",
   "execution_count": 20,
   "metadata": {},
   "outputs": [
    {
     "name": "stdout",
     "output_type": "stream",
     "text": [
      "(100, 15, 12, 2)\n",
      "(100, 12)\n"
     ]
    }
   ],
   "source": [
    "# calc log prob for other classifiers\n",
    "if hasattr( clf, 'predict_log_proba'):\n",
    "    #Yest=clf.predict(XX)\n",
    "    #clf.score(XX, YY)\n",
    "    log_prob = clf.predict_log_proba(XX)\n",
    "    log_prob=log_prob.reshape(-1,15,12,2)\n",
    "    print(log_prob.shape)\n",
    "\n",
    "    # accumulate log_prob over trials\n",
    "    log_prob_diff=np.sum(log_prob,axis=1)[:,:,1]-np.sum(log_prob,axis=1)[:,:,0]\n",
    "    print(log_prob_diff.shape)"
   ]
  },
  {
   "cell_type": "code",
   "execution_count": 21,
   "metadata": {},
   "outputs": [
    {
     "data": {
      "text/plain": [
       "(100, 12)"
      ]
     },
     "execution_count": 21,
     "metadata": {},
     "output_type": "execute_result"
    }
   ],
   "source": [
    "YY = YY.reshape(-1,15,12)\n",
    "YY.shape\n",
    "#YY[1,:,1]\n",
    "YY_trial=YY[:,0,:]\n",
    "YY_trial.shape"
   ]
  },
  {
   "cell_type": "code",
   "execution_count": 22,
   "metadata": {},
   "outputs": [
    {
     "data": {
      "text/plain": [
       "[<matplotlib.lines.Line2D at 0x12abcce10>]"
      ]
     },
     "execution_count": 22,
     "metadata": {},
     "output_type": "execute_result"
    },
    {
     "data": {
      "image/png": "[encoded data removed]",
      "text/plain": [
       "<Figure size 432x288 with 2 Axes>"
      ]
     },
     "metadata": {
      "needs_background": "light"
     },
     "output_type": "display_data"
    }
   ],
   "source": [
    "epoch = 0\n",
    "plt.subplot(211)\n",
    "plt.plot(log_prob_diff[epoch,:])\n",
    "plt.subplot(212)\n",
    "plt.plot(YY_trial[epoch,:])"
   ]
  },
  {
   "cell_type": "code",
   "execution_count": 23,
   "metadata": {},
   "outputs": [
    {
     "data": {
      "text/plain": [
       "array([0, 1, 0, 1, 2, 1, 0, 1, 2, 1, 1, 0, 0, 2, 1, 4, 0, 1, 0, 0, 2, 2,\n",
       "       0, 1, 0, 1, 0, 0, 3, 0, 2, 3, 1, 1, 3, 1, 1, 1, 1, 1, 2, 1, 0, 1,\n",
       "       1, 3, 0, 1, 0, 1, 2, 0, 1, 2, 0, 0, 1, 2, 0, 0, 1, 1, 1, 0, 2, 0,\n",
       "       2, 0, 1, 1, 0, 1, 0, 1, 0, 1, 2, 1, 1, 1, 1, 1, 1, 3, 1, 1, 0, 1,\n",
       "       0, 0, 0, 1, 1, 0, 0, 0, 3, 1, 0, 0])"
      ]
     },
     "execution_count": 23,
     "metadata": {},
     "output_type": "execute_result"
    }
   ],
   "source": [
    "np.sum(log_prob_diff > 0 , axis=1)"
   ]
  },
  {
   "cell_type": "code",
   "execution_count": 24,
   "metadata": {},
   "outputs": [
    {
     "name": "stdout",
     "output_type": "stream",
     "text": [
      "(100, 12)\n"
     ]
    },
    {
     "data": {
      "text/plain": [
       "[<matplotlib.lines.Line2D at 0x12ac6f198>]"
      ]
     },
     "execution_count": 24,
     "metadata": {},
     "output_type": "execute_result"
    },
    {
     "data": {
      "image/png": "[encoded data removed]",
      "text/plain": [
       "<Figure size 432x288 with 1 Axes>"
      ]
     },
     "metadata": {
      "needs_background": "light"
     },
     "output_type": "display_data"
    }
   ],
   "source": [
    "from P300.data import decode_rc\n",
    "\n",
    "decoded = decode_rc(log_prob_diff)\n",
    "print(decoded.shape)\n",
    "plt.plot(decoded[epoch,:])"
   ]
  },
  {
   "cell_type": "code",
   "execution_count": 25,
   "metadata": {},
   "outputs": [
    {
     "data": {
      "text/plain": [
       "0.23"
      ]
     },
     "execution_count": 25,
     "metadata": {},
     "output_type": "execute_result"
    }
   ],
   "source": [
    "from P300.data import calc_accuracy_rc\n",
    "\n",
    "calc_accuracy_rc(YY_trial, decoded)"
   ]
  },
  {
   "cell_type": "code",
   "execution_count": null,
   "metadata": {},
   "outputs": [],
   "source": []
  }
 ],
 "metadata": {
  "kernelspec": {
   "display_name": "Python 3",
   "language": "python",
   "name": "python3"
  },
  "language_info": {
   "codemirror_mode": {
    "name": "ipython",
    "version": 3
   },
   "file_extension": ".py",
   "mimetype": "text/x-python",
   "name": "python",
   "nbconvert_exporter": "python",
   "pygments_lexer": "ipython3",
   "version": "3.7.1"
  }
 },
 "nbformat": 4,
 "nbformat_minor": 2
}
