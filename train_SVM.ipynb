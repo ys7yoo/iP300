{
 "cells": [
  {
   "cell_type": "code",
   "execution_count": 1,
   "metadata": {},
   "outputs": [],
   "source": [
    "import numpy as np\n",
    "from scipy.io import loadmat\n",
    "\n",
    "import matplotlib.pyplot as plt\n",
    "%matplotlib inline \n",
    "\n",
    "## general SVM \n",
    "from sklearn.svm import SVC\n",
    "\n",
    "## Let's start from linear SVM \n",
    "from sklearn.svm import LinearSVC\n",
    "# http://scikit-learn.org/stable/modules/generated/sklearn.svm.LinearSVC.html\n",
    "from sklearn import svm\n",
    "\n",
    "from tqdm import tqdm # for progressive bar\n",
    "\n",
    "from sklearn.externals import joblib # to save model\n",
    "\n",
    "from P300.data import load_data\n"
   ]
  },
  {
   "cell_type": "markdown",
   "metadata": {},
   "source": [
    "## load training data"
   ]
  },
  {
   "cell_type": "code",
   "execution_count": 2,
   "metadata": {},
   "outputs": [
    {
     "name": "stdout",
     "output_type": "stream",
     "text": [
      "loaded:\n",
      "(85, 180, 896)\n",
      "(85, 180, 1)\n",
      "(85, 180, 1)\n",
      "stacked:\n",
      "(15300, 896)\n",
      "(15300,)\n",
      "(15300,)\n",
      "loaded:\n",
      "(85, 180, 896)\n",
      "(85, 180, 1)\n",
      "(85, 180, 1)\n",
      "stacked:\n",
      "(15300, 896)\n",
      "(15300,)\n",
      "(15300,)\n"
     ]
    }
   ],
   "source": [
    "# load training data\n",
    "num_epoches = 85\n",
    "\n",
    "subject_train='AandB'\n",
    "\n",
    "if subject_train is 'A':\n",
    "    X_train, Y_train, C_train = load_data('A', 'train', num_epoches)\n",
    "    \n",
    "if subject_train is 'B':\n",
    "    X_train, Y_train, C_train = load_data('B', 'train', num_epoches)\n",
    "    \n",
    "if subject_train is 'AandB':\n",
    "    X_train_A, Y_train_A, C_train_A = load_data('A', 'train', num_epoches)\n",
    "    X_train_B, Y_train_B, C_train_B = load_data('B', 'train', num_epoches)\n",
    "    \n",
    "    # combine\n",
    "    X_train = np.vstack((X_train_A,X_train_B))\n",
    "    print(X_train.shape)\n",
    "    Y_train = np.concatenate((Y_train_A, Y_train_B))\n",
    "    print(Y_train.shape)\n"
   ]
  },
  {
   "cell_type": "code",
   "execution_count": 3,
   "metadata": {},
   "outputs": [
    {
     "name": "stdout",
     "output_type": "stream",
     "text": [
      "(30600, 896)\n",
      "(30600,)\n"
     ]
    }
   ],
   "source": []
  },
  {
   "cell_type": "markdown",
   "metadata": {},
   "source": [
    "## train a SVM"
   ]
  },
  {
   "cell_type": "code",
   "execution_count": null,
   "metadata": {},
   "outputs": [],
   "source": [
    "# train SVM\n",
    "clf = svm.SVC(kernel='linear', C=1.0, class_weight='balanced', probability=True, max_iter=-1, random_state=42)\n",
    "#clf = svm.LinearSVC(C=1.0, loss=\"hinge\", class_weight='balanced', probability=True, max_iter=5000, random_state=42)\n",
    "clf.fit(X_train, Y_train)"
   ]
  },
  {
   "cell_type": "code",
   "execution_count": null,
   "metadata": {},
   "outputs": [],
   "source": [
    "# training score\n",
    "clf.score(X_train, Y_train)"
   ]
  },
  {
   "cell_type": "code",
   "execution_count": null,
   "metadata": {},
   "outputs": [],
   "source": [
    "# save model\n",
    "\n",
    "num_ch = 64\n",
    "joblib.dump(clf, \"{}_SVC_linear_ch{}.model\".format(subject_train,num_ch))"
   ]
  },
  {
   "cell_type": "markdown",
   "metadata": {},
   "source": [
    "## test"
   ]
  },
  {
   "cell_type": "code",
   "execution_count": null,
   "metadata": {},
   "outputs": [],
   "source": [
    "# test scores\n",
    "X_test_A, Y_test_A, C_test_A = load_data('A', 'test', num_epoches)\n",
    "X_test_B, Y_test_B, C_test_B = load_data('B', 'test', num_epoches)"
   ]
  },
  {
   "cell_type": "code",
   "execution_count": null,
   "metadata": {},
   "outputs": [],
   "source": [
    "clf.score(X_test_A, Y_test_A)"
   ]
  },
  {
   "cell_type": "code",
   "execution_count": null,
   "metadata": {},
   "outputs": [],
   "source": [
    "clf.score(X_test_B, Y_test_B)"
   ]
  },
  {
   "cell_type": "markdown",
   "metadata": {},
   "source": [
    "## Let's understand it"
   ]
  },
  {
   "cell_type": "code",
   "execution_count": null,
   "metadata": {},
   "outputs": [],
   "source": [
    "subject_train='AandB'\n",
    "num_ch = 64\n",
    "clf = joblib.load(\"model/{}_SVM_ch{}.model\".format(subject_train,num_ch))"
   ]
  },
  {
   "cell_type": "code",
   "execution_count": null,
   "metadata": {},
   "outputs": [],
   "source": [
    "f=clf.decision_function(X_train)\n",
    "\n",
    "f_A=clf.decision_function(X_train_A)\n",
    "f_B=clf.decision_function(X_train_B)\n",
    "\n",
    "plt.figure(figsize=(8, 6), dpi=120)\n",
    "plt.subplot(231)\n",
    "plt.hist(f_A[Y_train_A>0])\n",
    "#plt.hist(f_A[Y_train_A<0])\n",
    "plt.xlabel('f')\n",
    "plt.ylabel('count')\n",
    "plt.title('subject A')\n",
    "\n",
    "plt.subplot(232)\n",
    "plt.hist(f_A[Y_train_A<0])\n",
    "plt.xlabel('f')\n",
    "plt.ylabel('count')\n",
    "plt.title('subject A')\n",
    "\n",
    "\n",
    "plt.subplot(233)\n",
    "plt.plot(Y_train_A, f_A, 'o', alpha=0.05)\n",
    "plt.xlabel('Y')\n",
    "plt.ylabel('f')\n",
    "\n",
    "\n",
    "\n",
    "plt.subplot(234)\n",
    "plt.hist(f_B[Y_train_B>0])\n",
    "plt.xlabel('f')\n",
    "plt.ylabel('count')\n",
    "plt.title('subject B')\n",
    "\n",
    "plt.subplot(235)\n",
    "plt.hist(f_B[Y_train_B<0])\n",
    "plt.xlabel('f')\n",
    "plt.ylabel('count')\n",
    "plt.title('subject B')\n",
    "\n",
    "\n",
    "plt.subplot(236)\n",
    "plt.plot(Y_train_B, f_B, 'o', alpha=0.05)\n",
    "plt.xlabel('Y')\n",
    "plt.ylabel('f')\n"
   ]
  },
  {
   "cell_type": "code",
   "execution_count": null,
   "metadata": {},
   "outputs": [],
   "source": [
    "# train logistic regression using f and Y\n",
    "from sklearn.linear_model import LogisticRegression\n",
    "\n",
    "clf2 = LogisticRegression(class_weight='balanced', n_jobs=-1)\n",
    "clf2.fit(f_A.reshape(-1, 1), Y_train_A.reshape(-1, 1))\n"
   ]
  },
  {
   "cell_type": "code",
   "execution_count": null,
   "metadata": {},
   "outputs": [],
   "source": [
    "clf2.score(f_A.reshape(-1, 1), Y_train_A.reshape(-1, 1))"
   ]
  },
  {
   "cell_type": "code",
   "execution_count": null,
   "metadata": {},
   "outputs": [],
   "source": [
    "Y_train_A"
   ]
  },
  {
   "cell_type": "code",
   "execution_count": null,
   "metadata": {},
   "outputs": [],
   "source": []
  },
  {
   "cell_type": "code",
   "execution_count": null,
   "metadata": {},
   "outputs": [],
   "source": [
    "plt.plot(1/(1+np.exp(-f_A.reshape(-1,1))), Y_train_A, 'o', alpha=0.05)"
   ]
  },
  {
   "cell_type": "code",
   "execution_count": null,
   "metadata": {},
   "outputs": [],
   "source": [
    "from platt import platt \n",
    "\n",
    "%load_ext autoreload\n",
    "%autoreload 2"
   ]
  },
  {
   "cell_type": "code",
   "execution_count": null,
   "metadata": {},
   "outputs": [],
   "source": [
    "a, b = platt(f, Y_train, sum(Y_train<0), sum(Y_train>0))\n",
    "print(a, b)\n",
    "\n",
    "np.savetxt(\"AandB_SVM_ab.txt\", (a,b))\n",
    "\n",
    "plt.plot(f_A, 1.0/(1+np.exp(f_A*a+b)), 'o')\n"
   ]
  },
  {
   "cell_type": "code",
   "execution_count": null,
   "metadata": {},
   "outputs": [],
   "source": [
    "a, b = platt(f_A, Y_train_A, sum(Y_train_A<0), sum(Y_train_A>0))\n",
    "print(a, b)\n",
    "\n",
    "np.savetxt(\"A_SVM_ab.txt\", (a,b))\n",
    "\n",
    "plt.plot(f_A, 1.0/(1+np.exp(f_A*a+b)), 'o')\n",
    "\n",
    "\n"
   ]
  },
  {
   "cell_type": "code",
   "execution_count": null,
   "metadata": {},
   "outputs": [],
   "source": [
    "sum(Y_train_A>0),sum(Y_train_A<0)"
   ]
  },
  {
   "cell_type": "code",
   "execution_count": null,
   "metadata": {},
   "outputs": [],
   "source": [
    "np.savetxt(\"f.txt\", f_A)\n",
    "np.savetxt(\"Y.txt\", Y_train_A)"
   ]
  },
  {
   "cell_type": "code",
   "execution_count": null,
   "metadata": {},
   "outputs": [],
   "source": []
  }
 ],
 "metadata": {
  "kernelspec": {
   "display_name": "Python 3",
   "language": "python",
   "name": "python3"
  },
  "language_info": {
   "codemirror_mode": {
    "name": "ipython",
    "version": 3
   },
   "file_extension": ".py",
   "mimetype": "text/x-python",
   "name": "python",
   "nbconvert_exporter": "python",
   "pygments_lexer": "ipython3",
   "version": "3.7.1"
  }
 },
 "nbformat": 4,
 "nbformat_minor": 2
}
