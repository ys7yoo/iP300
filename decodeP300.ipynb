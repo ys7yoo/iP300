{
 "cells": [
  {
   "cell_type": "code",
   "execution_count": 1,
   "metadata": {},
   "outputs": [],
   "source": [
    "from sklearn.externals import joblib # to save model\n",
    "\n",
    "from P300.data import load_data\n",
    "\n",
    "# confusion matrix\n",
    "from sklearn import metrics\n",
    "# http://scikit-learn.org/stable/modules/generated/sklearn.metrics.confusion_matrix.html\n",
    "\n",
    "\n",
    "import matplotlib.pyplot as plt\n",
    "%matplotlib inline \n",
    "\n",
    "\n",
    "%load_ext autoreload\n",
    "%autoreload 2\n",
    "\n",
    "import numpy as np"
   ]
  },
  {
   "cell_type": "code",
   "execution_count": 2,
   "metadata": {},
   "outputs": [
    {
     "name": "stdout",
     "output_type": "stream",
     "text": [
      "LogisticRegression(C=1.0, class_weight='balanced', dual=False,\n",
      "          fit_intercept=True, intercept_scaling=1, max_iter=100,\n",
      "          multi_class='warn', n_jobs=-1, penalty='l2', random_state=None,\n",
      "          solver='warn', tol=0.0001, verbose=0, warm_start=False)\n"
     ]
    }
   ],
   "source": [
    "# load classifier \n",
    "#subject='A'\n",
    "#subject='B'\n",
    "model_folder='model'\n",
    "subject='AandB'\n",
    "num_ch=64\n",
    "clf_filename=\"{}/{}_LR_ch{}.model\".format(model_folder, subject, num_ch)\n",
    "clf = joblib.load(clf_filename)\n",
    "print(clf)"
   ]
  },
  {
   "cell_type": "code",
   "execution_count": 3,
   "metadata": {},
   "outputs": [
    {
     "name": "stdout",
     "output_type": "stream",
     "text": [
      "loaded:\n",
      "(100, 180, 896)\n",
      "(100, 180, 1)\n",
      "(100, 180, 1)\n",
      "stacked:\n",
      "(18000, 896)\n",
      "(18000,)\n",
      "(18000,)\n"
     ]
    }
   ],
   "source": [
    "# calc prob for test \n",
    "#subject = 'A'\n",
    "subject = 'B'\n",
    "#X_train, Y_train, Code_train = load_data(subject, 'train', 85)\n",
    "X_test, Y_test, Code_test = load_data(subject, 'test', 100)"
   ]
  },
  {
   "cell_type": "code",
   "execution_count": 4,
   "metadata": {},
   "outputs": [
    {
     "name": "stdout",
     "output_type": "stream",
     "text": [
      "0.7278888888888889\n"
     ]
    },
    {
     "data": {
      "text/plain": [
       "array([[ 2104,   896],\n",
       "       [ 4002, 10998]])"
      ]
     },
     "execution_count": 4,
     "metadata": {},
     "output_type": "execute_result"
    }
   ],
   "source": [
    "# test\n",
    "Y_est=clf.predict(X_test)\n",
    "\n",
    "accuracy = sum(Y_test==Y_est) / len(Y_test)\n",
    "print(accuracy)\n",
    "\n",
    "metrics.confusion_matrix(Y_test,Y_est,labels=(1,-1))"
   ]
  },
  {
   "cell_type": "code",
   "execution_count": 5,
   "metadata": {},
   "outputs": [
    {
     "data": {
      "image/png": "[encoded data removed]",
      "text/plain": [
       "<Figure size 432x288 with 1 Axes>"
      ]
     },
     "metadata": {
      "needs_background": "light"
     },
     "output_type": "display_data"
    }
   ],
   "source": [
    "\n",
    "# predict prob\n",
    "prob = clf.predict_proba(X_test)\n",
    "plt.hist(prob)\n",
    "\n",
    "log_prob = clf.predict_log_proba(X_test)\n",
    "#plt.hist(log_prob)"
   ]
  },
  {
   "cell_type": "code",
   "execution_count": 6,
   "metadata": {},
   "outputs": [
    {
     "data": {
      "text/plain": [
       "-0.0026955959959683107"
      ]
     },
     "execution_count": 6,
     "metadata": {},
     "output_type": "execute_result"
    }
   ],
   "source": [
    "np.max(log_prob)"
   ]
  },
  {
   "cell_type": "code",
   "execution_count": 7,
   "metadata": {},
   "outputs": [
    {
     "data": {
      "text/plain": [
       "(18000, 2)"
      ]
     },
     "execution_count": 7,
     "metadata": {},
     "output_type": "execute_result"
    }
   ],
   "source": [
    "prob.shape"
   ]
  },
  {
   "cell_type": "code",
   "execution_count": 8,
   "metadata": {},
   "outputs": [
    {
     "data": {
      "text/plain": [
       "(18000, 896)"
      ]
     },
     "execution_count": 8,
     "metadata": {},
     "output_type": "execute_result"
    }
   ],
   "source": [
    "X_test.shape"
   ]
  },
  {
   "cell_type": "code",
   "execution_count": 9,
   "metadata": {},
   "outputs": [
    {
     "data": {
      "text/plain": [
       "(18000, 2)"
      ]
     },
     "execution_count": 9,
     "metadata": {},
     "output_type": "execute_result"
    }
   ],
   "source": [
    "log_prob.shape"
   ]
  },
  {
   "cell_type": "code",
   "execution_count": 10,
   "metadata": {},
   "outputs": [
    {
     "data": {
      "text/plain": [
       "(array([1.0000e+00, 7.0000e+00, 9.0000e+00, 4.2000e+01, 1.1500e+02,\n",
       "        3.4100e+02, 7.8000e+02, 1.7590e+03, 4.3850e+03, 1.0561e+04]),\n",
       " array([-5.70185016e+00, -5.13193470e+00, -4.56201924e+00, -3.99210379e+00,\n",
       "        -3.42218833e+00, -2.85227288e+00, -2.28235742e+00, -1.71244196e+00,\n",
       "        -1.14252651e+00, -5.72611052e-01, -2.69559600e-03]),\n",
       " <a list of 10 Patch objects>)"
      ]
     },
     "execution_count": 10,
     "metadata": {},
     "output_type": "execute_result"
    },
    {
     "data": {
      "image/png": "[encoded data removed]",
      "text/plain": [
       "<Figure size 432x288 with 1 Axes>"
      ]
     },
     "metadata": {
      "needs_background": "light"
     },
     "output_type": "display_data"
    }
   ],
   "source": [
    "plt.hist(log_prob[:,0])"
   ]
  },
  {
   "cell_type": "code",
   "execution_count": 11,
   "metadata": {},
   "outputs": [
    {
     "data": {
      "text/plain": [
       "(array([  12.,  159., 1152., 3920., 6129., 4426., 1717.,  425.,   52.,\n",
       "           8.]),\n",
       " array([-5.91478785, -4.75345859, -3.59212932, -2.43080006, -1.2694708 ,\n",
       "        -0.10814153,  1.05318773,  2.21451699,  3.37584626,  4.53717552,\n",
       "         5.69850479]),\n",
       " <a list of 10 Patch objects>)"
      ]
     },
     "execution_count": 11,
     "metadata": {},
     "output_type": "execute_result"
    },
    {
     "data": {
      "image/png": "[encoded data removed]",
      "text/plain": [
       "<Figure size 432x288 with 1 Axes>"
      ]
     },
     "metadata": {
      "needs_background": "light"
     },
     "output_type": "display_data"
    }
   ],
   "source": [
    "plt.hist(log_prob[:,1]-log_prob[:,0])"
   ]
  },
  {
   "cell_type": "markdown",
   "metadata": {},
   "source": [
    "## decode after averaging over trials"
   ]
  },
  {
   "cell_type": "code",
   "execution_count": 12,
   "metadata": {},
   "outputs": [],
   "source": [
    "from P300.data import sort_by_code\n",
    "\n",
    "XX, YY, CC= sort_by_code(X_test, Y_test, Code_test)"
   ]
  },
  {
   "cell_type": "code",
   "execution_count": 13,
   "metadata": {},
   "outputs": [
    {
     "name": "stdout",
     "output_type": "stream",
     "text": [
      "(18000, 896)\n",
      "(18000, 1)\n",
      "(18000, 1)\n"
     ]
    }
   ],
   "source": [
    "print(XX.shape)\n",
    "print(YY.shape)\n",
    "print(CC.shape)"
   ]
  },
  {
   "cell_type": "code",
   "execution_count": 14,
   "metadata": {},
   "outputs": [
    {
     "data": {
      "text/plain": [
       "(100, 15, 12, 2)"
      ]
     },
     "execution_count": 14,
     "metadata": {},
     "output_type": "execute_result"
    }
   ],
   "source": [
    "#Yest=clf.predict(XX)\n",
    "#clf.score(XX, YY)\n",
    "log_prob = clf.predict_log_proba(XX)\n",
    "log_prob=log_prob.reshape(-1,15,12,2)\n",
    "log_prob.shape"
   ]
  },
  {
   "cell_type": "code",
   "execution_count": 15,
   "metadata": {},
   "outputs": [
    {
     "data": {
      "text/plain": [
       "(100, 12)"
      ]
     },
     "execution_count": 15,
     "metadata": {},
     "output_type": "execute_result"
    }
   ],
   "source": [
    "# accumulate log_prob over trials\n",
    "log_prob_diff=np.sum(log_prob,axis=1)[:,:,1]-np.sum(log_prob,axis=1)[:,:,0]\n",
    "log_prob_diff.shape"
   ]
  },
  {
   "cell_type": "code",
   "execution_count": 16,
   "metadata": {},
   "outputs": [
    {
     "data": {
      "text/plain": [
       "(100, 12)"
      ]
     },
     "execution_count": 16,
     "metadata": {},
     "output_type": "execute_result"
    }
   ],
   "source": [
    "YY = YY.reshape(-1,15,12)\n",
    "YY.shape\n",
    "#YY[1,:,1]\n",
    "YY_trial=YY[:,0,:]\n",
    "YY_trial.shape"
   ]
  },
  {
   "cell_type": "code",
   "execution_count": 17,
   "metadata": {},
   "outputs": [
    {
     "data": {
      "text/plain": [
       "[<matplotlib.lines.Line2D at 0x10e28fc50>]"
      ]
     },
     "execution_count": 17,
     "metadata": {},
     "output_type": "execute_result"
    },
    {
     "data": {
      "image/png": "[encoded data removed]",
      "text/plain": [
       "<Figure size 432x288 with 2 Axes>"
      ]
     },
     "metadata": {
      "needs_background": "light"
     },
     "output_type": "display_data"
    }
   ],
   "source": [
    "epoch = 0\n",
    "plt.subplot(211)\n",
    "plt.plot(log_prob_diff[epoch,:])\n",
    "plt.subplot(212)\n",
    "plt.plot(YY_trial[epoch,:])"
   ]
  },
  {
   "cell_type": "code",
   "execution_count": 18,
   "metadata": {},
   "outputs": [
    {
     "data": {
      "text/plain": [
       "array([2, 2, 3, 1, 3, 2, 4, 3, 3, 4, 1, 3, 2, 2, 2, 2, 3, 3, 3, 1, 0, 3,\n",
       "       3, 0, 0, 3, 3, 2, 3, 2, 2, 3, 2, 2, 2, 3, 3, 2, 2, 3, 2, 3, 2, 2,\n",
       "       3, 3, 2, 2, 2, 2, 5, 4, 2, 3, 2, 0, 2, 3, 2, 2, 2, 2, 2, 2, 2, 2,\n",
       "       3, 2, 3, 2, 2, 2, 4, 2, 2, 2, 3, 3, 2, 3, 2, 3, 2, 4, 2, 2, 1, 2,\n",
       "       2, 2, 2, 2, 2, 2, 3, 2, 2, 2, 2, 2])"
      ]
     },
     "execution_count": 18,
     "metadata": {},
     "output_type": "execute_result"
    }
   ],
   "source": [
    "np.sum(log_prob_diff > 0 , axis=1)"
   ]
  },
  {
   "cell_type": "code",
   "execution_count": 19,
   "metadata": {},
   "outputs": [
    {
     "data": {
      "text/plain": [
       "[<matplotlib.lines.Line2D at 0x12cf5e9b0>]"
      ]
     },
     "execution_count": 19,
     "metadata": {},
     "output_type": "execute_result"
    },
    {
     "data": {
      "image/png": "[encoded data removed]",
      "text/plain": [
       "<Figure size 432x288 with 1 Axes>"
      ]
     },
     "metadata": {
      "needs_background": "light"
     },
     "output_type": "display_data"
    }
   ],
   "source": [
    "from P300.data import decode_rc\n",
    "\n",
    "decoded = decode_rc(log_prob_diff)\n",
    "decoded.shape\n",
    "plt.plot(decoded[epoch,:])"
   ]
  },
  {
   "cell_type": "code",
   "execution_count": 20,
   "metadata": {},
   "outputs": [
    {
     "data": {
      "text/plain": [
       "0.91"
      ]
     },
     "execution_count": 20,
     "metadata": {},
     "output_type": "execute_result"
    }
   ],
   "source": [
    "from P300.data import calc_accuracy_rc\n",
    "\n",
    "calc_accuracy_rc(YY_trial, decoded)"
   ]
  },
  {
   "cell_type": "code",
   "execution_count": null,
   "metadata": {},
   "outputs": [],
   "source": []
  }
 ],
 "metadata": {
  "kernelspec": {
   "display_name": "Python 3",
   "language": "python",
   "name": "python3"
  },
  "language_info": {
   "codemirror_mode": {
    "name": "ipython",
    "version": 3
   },
   "file_extension": ".py",
   "mimetype": "text/x-python",
   "name": "python",
   "nbconvert_exporter": "python",
   "pygments_lexer": "ipython3",
   "version": "3.7.1"
  }
 },
 "nbformat": 4,
 "nbformat_minor": 2
}
