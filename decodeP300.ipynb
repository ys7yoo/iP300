{
 "cells": [
  {
   "cell_type": "code",
   "execution_count": 1,
   "metadata": {},
   "outputs": [],
   "source": [
    "from sklearn.externals import joblib # to save model\n",
    "\n",
    "from P300.data import load_data\n",
    "\n",
    "# confusion matrix\n",
    "from sklearn import metrics\n",
    "# http://scikit-learn.org/stable/modules/generated/sklearn.metrics.confusion_matrix.html\n",
    "\n",
    "\n",
    "import matplotlib.pyplot as plt\n",
    "%matplotlib inline \n",
    "\n",
    "\n",
    "%load_ext autoreload\n",
    "%autoreload 2\n",
    "\n",
    "import numpy as np"
   ]
  },
  {
   "cell_type": "code",
   "execution_count": 2,
   "metadata": {},
   "outputs": [
    {
     "name": "stdout",
     "output_type": "stream",
     "text": [
      "LinearSVC(C=1.0, class_weight='balanced', dual=True, fit_intercept=True,\n",
      "     intercept_scaling=1, loss='hinge', max_iter=5000, multi_class='ovr',\n",
      "     penalty='l2', random_state=42, tol=0.0001, verbose=0)\n"
     ]
    }
   ],
   "source": [
    "# load classifier \n",
    "#subject='A'\n",
    "#subject='B'\n",
    "model_folder='model'\n",
    "subject='AandB'\n",
    "#clf_name = 'LR'\n",
    "clf_name = 'SVM'\n",
    "num_ch=64\n",
    "clf_filename=\"{}/{}_{}_ch{}.model\".format(model_folder, subject, clf_name,num_ch)\n",
    "clf = joblib.load(clf_filename)\n",
    "print(clf)"
   ]
  },
  {
   "cell_type": "code",
   "execution_count": 3,
   "metadata": {},
   "outputs": [
    {
     "name": "stdout",
     "output_type": "stream",
     "text": [
      "loaded:\n",
      "(100, 180, 896)\n",
      "(100, 180, 1)\n",
      "(100, 180, 1)\n",
      "stacked:\n",
      "(18000, 896)\n",
      "(18000,)\n",
      "(18000,)\n"
     ]
    }
   ],
   "source": [
    "# calc prob for test \n",
    "#subject = 'A'\n",
    "subject = 'B'\n",
    "#X_train, Y_train, Code_train = load_data(subject, 'train', 85)\n",
    "X_test, Y_test, Code_test = load_data(subject, 'test', 100)"
   ]
  },
  {
   "cell_type": "code",
   "execution_count": 4,
   "metadata": {},
   "outputs": [
    {
     "name": "stdout",
     "output_type": "stream",
     "text": [
      "0.7613888888888889\n"
     ]
    },
    {
     "data": {
      "text/plain": [
       "array([[  870,  2130],\n",
       "       [ 2165, 12835]])"
      ]
     },
     "execution_count": 4,
     "metadata": {},
     "output_type": "execute_result"
    }
   ],
   "source": [
    "# test\n",
    "Y_est=clf.predict(X_test)\n",
    "\n",
    "accuracy = sum(Y_test==Y_est) / len(Y_test)\n",
    "print(accuracy)\n",
    "\n",
    "metrics.confusion_matrix(Y_test,Y_est,labels=(1,-1))"
   ]
  },
  {
   "cell_type": "code",
   "execution_count": 5,
   "metadata": {},
   "outputs": [
    {
     "ename": "AttributeError",
     "evalue": "'LinearSVC' object has no attribute 'predict_proba'",
     "output_type": "error",
     "traceback": [
      "\u001b[0;31m---------------------------------------------------------------------------\u001b[0m",
      "\u001b[0;31mAttributeError\u001b[0m                            Traceback (most recent call last)",
      "\u001b[0;32m<ipython-input-5-8997b6045d8f>\u001b[0m in \u001b[0;36m<module>\u001b[0;34m\u001b[0m\n\u001b[1;32m      1\u001b[0m \u001b[0;34m\u001b[0m\u001b[0m\n\u001b[1;32m      2\u001b[0m \u001b[0;31m# predict prob\u001b[0m\u001b[0;34m\u001b[0m\u001b[0;34m\u001b[0m\u001b[0;34m\u001b[0m\u001b[0m\n\u001b[0;32m----> 3\u001b[0;31m \u001b[0mprob\u001b[0m \u001b[0;34m=\u001b[0m \u001b[0mclf\u001b[0m\u001b[0;34m.\u001b[0m\u001b[0mpredict_proba\u001b[0m\u001b[0;34m(\u001b[0m\u001b[0mX_test\u001b[0m\u001b[0;34m)\u001b[0m\u001b[0;34m\u001b[0m\u001b[0;34m\u001b[0m\u001b[0m\n\u001b[0m\u001b[1;32m      4\u001b[0m \u001b[0mplt\u001b[0m\u001b[0;34m.\u001b[0m\u001b[0mhist\u001b[0m\u001b[0;34m(\u001b[0m\u001b[0mprob\u001b[0m\u001b[0;34m)\u001b[0m\u001b[0;34m\u001b[0m\u001b[0;34m\u001b[0m\u001b[0m\n\u001b[1;32m      5\u001b[0m \u001b[0;34m\u001b[0m\u001b[0m\n",
      "\u001b[0;31mAttributeError\u001b[0m: 'LinearSVC' object has no attribute 'predict_proba'"
     ]
    }
   ],
   "source": [
    "\n",
    "# predict prob\n",
    "prob = clf.predict_proba(X_test)\n",
    "plt.hist(prob)\n",
    "\n",
    "log_prob = clf.predict_log_proba(X_test)\n",
    "#plt.hist(log_prob)"
   ]
  },
  {
   "cell_type": "code",
   "execution_count": null,
   "metadata": {},
   "outputs": [],
   "source": [
    "np.max(log_prob)"
   ]
  },
  {
   "cell_type": "code",
   "execution_count": null,
   "metadata": {},
   "outputs": [],
   "source": [
    "prob.shape"
   ]
  },
  {
   "cell_type": "code",
   "execution_count": null,
   "metadata": {},
   "outputs": [],
   "source": [
    "X_test.shape"
   ]
  },
  {
   "cell_type": "code",
   "execution_count": null,
   "metadata": {},
   "outputs": [],
   "source": [
    "log_prob.shape"
   ]
  },
  {
   "cell_type": "code",
   "execution_count": null,
   "metadata": {},
   "outputs": [],
   "source": [
    "plt.hist(log_prob[:,0])"
   ]
  },
  {
   "cell_type": "code",
   "execution_count": null,
   "metadata": {},
   "outputs": [],
   "source": [
    "plt.hist(log_prob[:,1]-log_prob[:,0])"
   ]
  },
  {
   "cell_type": "markdown",
   "metadata": {},
   "source": [
    "## decode after averaging over trials"
   ]
  },
  {
   "cell_type": "code",
   "execution_count": null,
   "metadata": {},
   "outputs": [],
   "source": [
    "from P300.data import sort_by_code\n",
    "\n",
    "XX, YY, CC= sort_by_code(X_test, Y_test, Code_test)"
   ]
  },
  {
   "cell_type": "code",
   "execution_count": null,
   "metadata": {},
   "outputs": [],
   "source": [
    "print(XX.shape)\n",
    "print(YY.shape)\n",
    "print(CC.shape)"
   ]
  },
  {
   "cell_type": "code",
   "execution_count": null,
   "metadata": {},
   "outputs": [],
   "source": [
    "#Yest=clf.predict(XX)\n",
    "#clf.score(XX, YY)\n",
    "log_prob = clf.predict_log_proba(XX)\n",
    "log_prob=log_prob.reshape(-1,15,12,2)\n",
    "log_prob.shape"
   ]
  },
  {
   "cell_type": "code",
   "execution_count": null,
   "metadata": {},
   "outputs": [],
   "source": [
    "# accumulate log_prob over trials\n",
    "log_prob_diff=np.sum(log_prob,axis=1)[:,:,1]-np.sum(log_prob,axis=1)[:,:,0]\n",
    "log_prob_diff.shape"
   ]
  },
  {
   "cell_type": "code",
   "execution_count": null,
   "metadata": {},
   "outputs": [],
   "source": [
    "YY = YY.reshape(-1,15,12)\n",
    "YY.shape\n",
    "#YY[1,:,1]\n",
    "YY_trial=YY[:,0,:]\n",
    "YY_trial.shape"
   ]
  },
  {
   "cell_type": "code",
   "execution_count": null,
   "metadata": {},
   "outputs": [],
   "source": [
    "epoch = 0\n",
    "plt.subplot(211)\n",
    "plt.plot(log_prob_diff[epoch,:])\n",
    "plt.subplot(212)\n",
    "plt.plot(YY_trial[epoch,:])"
   ]
  },
  {
   "cell_type": "code",
   "execution_count": null,
   "metadata": {},
   "outputs": [],
   "source": [
    "np.sum(log_prob_diff > 0 , axis=1)"
   ]
  },
  {
   "cell_type": "code",
   "execution_count": null,
   "metadata": {},
   "outputs": [],
   "source": [
    "from P300.data import decode_rc\n",
    "\n",
    "decoded = decode_rc(log_prob_diff)\n",
    "decoded.shape\n",
    "plt.plot(decoded[epoch,:])"
   ]
  },
  {
   "cell_type": "code",
   "execution_count": null,
   "metadata": {},
   "outputs": [],
   "source": [
    "from P300.data import calc_accuracy_rc\n",
    "\n",
    "calc_accuracy_rc(YY_trial, decoded)"
   ]
  },
  {
   "cell_type": "code",
   "execution_count": null,
   "metadata": {},
   "outputs": [],
   "source": []
  }
 ],
 "metadata": {
  "kernelspec": {
   "display_name": "Python 3",
   "language": "python",
   "name": "python3"
  },
  "language_info": {
   "codemirror_mode": {
    "name": "ipython",
    "version": 3
   },
   "file_extension": ".py",
   "mimetype": "text/x-python",
   "name": "python",
   "nbconvert_exporter": "python",
   "pygments_lexer": "ipython3",
   "version": "3.7.1"
  }
 },
 "nbformat": 4,
 "nbformat_minor": 2
}
