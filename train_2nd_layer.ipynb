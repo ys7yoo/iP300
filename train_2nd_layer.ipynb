{
 "cells": [
  {
   "cell_type": "code",
   "execution_count": 1,
   "metadata": {},
   "outputs": [],
   "source": [
    "from sklearn.externals import joblib # to save model\n",
    "\n",
    "from P300.data import load_data\n",
    "\n",
    "# confusion matrix\n",
    "from sklearn import metrics\n",
    "# http://scikit-learn.org/stable/modules/generated/sklearn.metrics.confusion_matrix.html\n",
    "\n",
    "\n",
    "import matplotlib.pyplot as plt\n",
    "%matplotlib inline \n",
    "\n",
    "\n",
    "%load_ext autoreload\n",
    "%autoreload 2\n",
    "\n",
    "import numpy as np"
   ]
  },
  {
   "cell_type": "code",
   "execution_count": 2,
   "metadata": {},
   "outputs": [
    {
     "name": "stdout",
     "output_type": "stream",
     "text": [
      "LogisticRegression(C=1.0, class_weight='balanced', dual=False,\n",
      "          fit_intercept=True, intercept_scaling=1, max_iter=100,\n",
      "          multi_class='warn', n_jobs=-1, penalty='l2', random_state=None,\n",
      "          solver='warn', tol=0.0001, verbose=0, warm_start=False)\n",
      "LogisticRegression(C=1.0, class_weight='balanced', dual=False,\n",
      "          fit_intercept=True, intercept_scaling=1, max_iter=100,\n",
      "          multi_class='warn', n_jobs=-1, penalty='l2', random_state=None,\n",
      "          solver='warn', tol=0.0001, verbose=0, warm_start=False)\n"
     ]
    }
   ],
   "source": [
    "# load classifiers\n",
    "\n",
    "#subject='B'\n",
    "#subject='AandB'\n",
    "model_folder = 'model'\n",
    "subject='A'\n",
    "num_ch=64\n",
    "clf_filename_A=\"{}/{}_LR_ch{}.model\".format(model_folder, subject, num_ch)\n",
    "clf_A = joblib.load(clf_filename_A)\n",
    "print(clf_A)\n",
    "\n",
    "subject='B'\n",
    "num_ch=64\n",
    "clf_filename_B=\"{}/{}_LR_ch{}.model\".format(model_folder, subject, num_ch)\n",
    "clf_B = joblib.load(clf_filename_B)\n",
    "print(clf_B)\n",
    "\n"
   ]
  },
  {
   "cell_type": "code",
   "execution_count": 3,
   "metadata": {},
   "outputs": [
    {
     "name": "stdout",
     "output_type": "stream",
     "text": [
      "loaded:\n",
      "(85, 180, 896)\n",
      "(85, 180, 1)\n",
      "(85, 180, 1)\n",
      "stacked:\n",
      "(15300, 896)\n",
      "(15300,)\n",
      "(15300,)\n"
     ]
    }
   ],
   "source": [
    "# fusion!\n",
    "subject='A'\n",
    "X_train, Y_train, Code_train = load_data(subject, 'train', 85)"
   ]
  },
  {
   "cell_type": "code",
   "execution_count": 4,
   "metadata": {},
   "outputs": [
    {
     "data": {
      "text/plain": [
       "0.7696732026143791"
      ]
     },
     "execution_count": 4,
     "metadata": {},
     "output_type": "execute_result"
    }
   ],
   "source": [
    "clf_A.score(X_train,Y_train)"
   ]
  },
  {
   "cell_type": "code",
   "execution_count": 5,
   "metadata": {},
   "outputs": [
    {
     "data": {
      "text/plain": [
       "0.6529411764705882"
      ]
     },
     "execution_count": 5,
     "metadata": {},
     "output_type": "execute_result"
    }
   ],
   "source": [
    "clf_B.score(X_train,Y_train)"
   ]
  },
  {
   "cell_type": "markdown",
   "metadata": {},
   "source": [
    "## calc log prob"
   ]
  },
  {
   "cell_type": "code",
   "execution_count": 6,
   "metadata": {},
   "outputs": [
    {
     "name": "stderr",
     "output_type": "stream",
     "text": [
      "/Users/yyoo/tf11/lib/python3.7/site-packages/sklearn/linear_model/logistic.py:1434: RuntimeWarning: divide by zero encountered in log\n",
      "  return np.log(self.predict_proba(X))\n"
     ]
    },
    {
     "data": {
      "text/plain": [
       "(15300,)"
      ]
     },
     "execution_count": 6,
     "metadata": {},
     "output_type": "execute_result"
    }
   ],
   "source": [
    "log_prob_A=clf_A.predict_log_proba(X_train)\n",
    "log_prob_A_diff = log_prob_A[:,1]-log_prob_A[:,0]\n",
    "log_prob_A_diff.shape"
   ]
  },
  {
   "cell_type": "code",
   "execution_count": 7,
   "metadata": {},
   "outputs": [
    {
     "name": "stderr",
     "output_type": "stream",
     "text": [
      "/Users/yyoo/tf11/lib/python3.7/site-packages/sklearn/linear_model/logistic.py:1434: RuntimeWarning: divide by zero encountered in log\n",
      "  return np.log(self.predict_proba(X))\n"
     ]
    },
    {
     "data": {
      "text/plain": [
       "(15300,)"
      ]
     },
     "execution_count": 7,
     "metadata": {},
     "output_type": "execute_result"
    }
   ],
   "source": [
    "log_prob_B=clf_B.predict_log_proba(X_train)\n",
    "log_prob_B_diff = log_prob_B[:,1]-log_prob_B[:,0]\n",
    "log_prob_B_diff.shape"
   ]
  },
  {
   "cell_type": "code",
   "execution_count": 8,
   "metadata": {},
   "outputs": [
    {
     "data": {
      "text/plain": [
       "(15300, 2)"
      ]
     },
     "execution_count": 8,
     "metadata": {},
     "output_type": "execute_result"
    }
   ],
   "source": [
    "log_prob_diffs = np.stack((log_prob_A_diff,log_prob_B_diff),axis=1)\n",
    "log_prob_diffs.shape"
   ]
  },
  {
   "cell_type": "code",
   "execution_count": 9,
   "metadata": {},
   "outputs": [
    {
     "data": {
      "text/plain": [
       "[<matplotlib.lines.Line2D at 0x129f3f940>]"
      ]
     },
     "execution_count": 9,
     "metadata": {},
     "output_type": "execute_result"
    },
    {
     "data": {
      "image/png": "[encoded data removed]",
      "text/plain": [
       "<Figure size 432x288 with 1 Axes>"
      ]
     },
     "metadata": {
      "needs_background": "light"
     },
     "output_type": "display_data"
    }
   ],
   "source": [
    "plt.plot(log_prob_diffs[:,0],log_prob_diffs[:,1],'o')"
   ]
  },
  {
   "cell_type": "markdown",
   "metadata": {},
   "source": [
    "## train 2nd layer"
   ]
  },
  {
   "cell_type": "code",
   "execution_count": 10,
   "metadata": {},
   "outputs": [
    {
     "name": "stdout",
     "output_type": "stream",
     "text": [
      "[[ -5.11668358          inf]\n",
      " [  0.46887119          inf]\n",
      " [  2.14147367          inf]\n",
      " [  4.57822421          inf]\n",
      " [ -3.09208049          inf]\n",
      " [  0.43831879          inf]\n",
      " [-16.22000305          inf]\n",
      " [-12.46601853          inf]\n",
      " [         inf  28.43875891]\n",
      " [  1.45266925          inf]\n",
      " [ -5.44915596          inf]\n",
      " [  9.9697619           inf]\n",
      " [  3.00616479          inf]\n",
      " [  7.25864026          inf]\n",
      " [ -4.0068317           inf]]\n",
      "[-1 -1 -1  1 -1 -1 -1 -1  1 -1 -1  1  1 -1 -1]\n"
     ]
    }
   ],
   "source": [
    "idx_inf = np.any(np.isinf(log_prob_diffs),axis=1)\n",
    "#idx_inf = np.any(np.isneginf(log_prob_diffs),axis=1)\n",
    "\n",
    "print(log_prob_diffs[idx_inf,:])\n",
    "\n",
    "print(Y_train[ idx_inf])\n"
   ]
  },
  {
   "cell_type": "code",
   "execution_count": 11,
   "metadata": {},
   "outputs": [
    {
     "name": "stdout",
     "output_type": "stream",
     "text": [
      "[[-5.97797108e-03 -5.12266155e+00]\n",
      " [-9.54814709e-01 -4.85943522e-01]\n",
      " [-2.25255124e+00 -1.11077570e-01]\n",
      " [-4.58844492e+00 -1.02207131e-02]\n",
      " [-4.44066529e-02 -3.13648714e+00]\n",
      " [-9.36132177e-01 -4.97813385e-01]\n",
      " [-9.03113133e-08 -1.62200031e+01]\n",
      " [-3.85545914e-06 -1.24660224e+01]\n",
      " [           -inf  0.00000000e+00]\n",
      " [-1.66288560e+00 -2.10216351e-01]\n",
      " [-4.29071418e-03 -5.45344667e+00]\n",
      " [-9.96980869e+00 -4.67926091e-05]\n",
      " [-3.05446063e+00 -4.82958379e-02]\n",
      " [-7.25934407e+00 -7.03816995e-04]\n",
      " [-1.80274628e-02 -4.02485916e+00]]\n",
      "[[           -inf  0.00000000e+00]\n",
      " [           -inf  0.00000000e+00]\n",
      " [           -inf  0.00000000e+00]\n",
      " [           -inf  0.00000000e+00]\n",
      " [           -inf  0.00000000e+00]\n",
      " [           -inf  0.00000000e+00]\n",
      " [           -inf  0.00000000e+00]\n",
      " [           -inf  0.00000000e+00]\n",
      " [-2.84387589e+01 -4.45865567e-13]\n",
      " [           -inf  0.00000000e+00]\n",
      " [           -inf  0.00000000e+00]\n",
      " [           -inf  0.00000000e+00]\n",
      " [           -inf  0.00000000e+00]\n",
      " [           -inf  0.00000000e+00]\n",
      " [           -inf  0.00000000e+00]]\n"
     ]
    }
   ],
   "source": [
    "print(log_prob_A[idx_inf,:])\n",
    "print(log_prob_B[idx_inf,:])"
   ]
  },
  {
   "cell_type": "code",
   "execution_count": 12,
   "metadata": {},
   "outputs": [
    {
     "name": "stderr",
     "output_type": "stream",
     "text": [
      "/Users/yyoo/tf11/lib/python3.7/site-packages/ipykernel_launcher.py:6: DataConversionWarning: A column-vector y was passed when a 1d array was expected. Please change the shape of y to (n_samples,), for example using ravel().\n",
      "  \n"
     ]
    },
    {
     "data": {
      "text/plain": [
       "RandomForestClassifier(bootstrap=True, class_weight='balanced',\n",
       "            criterion='gini', max_depth=None, max_features='auto',\n",
       "            max_leaf_nodes=16, min_impurity_decrease=0.0,\n",
       "            min_impurity_split=None, min_samples_leaf=1,\n",
       "            min_samples_split=2, min_weight_fraction_leaf=0.0,\n",
       "            n_estimators=500, n_jobs=-1, oob_score=False,\n",
       "            random_state=None, verbose=0, warm_start=False)"
      ]
     },
     "execution_count": 12,
     "metadata": {},
     "output_type": "execute_result"
    }
   ],
   "source": [
    "from sklearn.ensemble import RandomForestClassifier\n",
    "\n",
    "\n",
    "\n",
    "clf = RandomForestClassifier(class_weight='balanced', n_estimators=500, max_leaf_nodes=16, n_jobs=-1)\n",
    "clf.fit(log_prob_diffs[~ idx_inf,:], Y_train[~ idx_inf].reshape(-1,1))"
   ]
  },
  {
   "cell_type": "code",
   "execution_count": 13,
   "metadata": {},
   "outputs": [
    {
     "data": {
      "text/plain": [
       "['A_LR_RF_ch64.model']"
      ]
     },
     "execution_count": 13,
     "metadata": {},
     "output_type": "execute_result"
    }
   ],
   "source": [
    "num_ch = 64\n",
    "joblib.dump(clf, \"{}_LR_RF_ch{}.model\".format(subject,num_ch))"
   ]
  },
  {
   "cell_type": "code",
   "execution_count": 14,
   "metadata": {},
   "outputs": [
    {
     "data": {
      "text/plain": [
       "0.7740268236833497"
      ]
     },
     "execution_count": 14,
     "metadata": {},
     "output_type": "execute_result"
    }
   ],
   "source": [
    "clf.score(log_prob_diffs[~ idx_inf,:], Y_train[~ idx_inf])"
   ]
  },
  {
   "cell_type": "code",
   "execution_count": null,
   "metadata": {},
   "outputs": [],
   "source": []
  }
 ],
 "metadata": {
  "kernelspec": {
   "display_name": "Python 3",
   "language": "python",
   "name": "python3"
  },
  "language_info": {
   "codemirror_mode": {
    "name": "ipython",
    "version": 3
   },
   "file_extension": ".py",
   "mimetype": "text/x-python",
   "name": "python",
   "nbconvert_exporter": "python",
   "pygments_lexer": "ipython3",
   "version": "3.7.1"
  }
 },
 "nbformat": 4,
 "nbformat_minor": 2
}
