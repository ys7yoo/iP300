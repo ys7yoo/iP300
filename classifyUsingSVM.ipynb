{
 "cells": [
  {
   "cell_type": "code",
   "execution_count": 1,
   "metadata": {},
   "outputs": [],
   "source": [
    "import numpy as np\n",
    "from scipy.io import loadmat\n",
    "\n",
    "import matplotlib.pyplot as plt\n",
    "%matplotlib inline \n",
    "\n",
    "## Let's start from linear SVM \n",
    "from sklearn.svm import LinearSVC\n",
    "# http://scikit-learn.org/stable/modules/generated/sklearn.svm.LinearSVC.html\n",
    "from sklearn import svm\n",
    "\n",
    "from tqdm import tqdm # for progressive bar\n",
    "\n",
    "from sklearn.externals import joblib # to save model\n"
   ]
  },
  {
   "cell_type": "markdown",
   "metadata": {},
   "source": [
    "## load one epoch data"
   ]
  },
  {
   "cell_type": "code",
   "execution_count": 2,
   "metadata": {},
   "outputs": [],
   "source": [
    "def load_one_epoch(subject, data_type, epoch_num):\n",
    "    if data_type is 'train':\n",
    "        epoch_data=loadmat(\"data/{}{}-allfilt20.mat\".format(subject, epoch_num))\n",
    "\n",
    "    x=epoch_data['x']\n",
    "    y=epoch_data['y']\n",
    "\n",
    "    return x, y"
   ]
  },
  {
   "cell_type": "code",
   "execution_count": 3,
   "metadata": {},
   "outputs": [
    {
     "name": "stdout",
     "output_type": "stream",
     "text": [
      "(180, 896)\n",
      "(180, 1)\n"
     ]
    }
   ],
   "source": [
    "#subject='A'\n",
    "subject='B'\n",
    "epoch_num = 1\n",
    "x, y = load_one_epoch(subject, 'train', 1)\n",
    "\n",
    "print(x.shape)\n",
    "print(y.shape)"
   ]
  },
  {
   "cell_type": "markdown",
   "metadata": {},
   "source": [
    "## load all training data for a subject"
   ]
  },
  {
   "cell_type": "code",
   "execution_count": 4,
   "metadata": {},
   "outputs": [],
   "source": [
    "def load_data(subject, data_type, num_epoches):\n",
    "    X = list()\n",
    "    Y = list()\n",
    "    for epoch_num in range(num_epoches):\n",
    "        #print(epoch_num)\n",
    "        x, y = load_one_epoch(subject, data_type, 1+epoch_num)\n",
    "\n",
    "        X.append(x)\n",
    "        Y.append(y)\n",
    "\n",
    "\n",
    "    X = np.array(X)\n",
    "    Y = np.array(Y)\n",
    "\n",
    "    print('loaded:')\n",
    "    print(X.shape)\n",
    "    print(Y.shape)\n",
    "\n",
    "    num_trials = X.shape[1]\n",
    "    data_dim = X.shape[2]\n",
    "\n",
    "    # stack epoches\n",
    "    X = X.reshape(-1,data_dim)\n",
    "    Y = Y.reshape(-1,1)\n",
    "\n",
    "    print('stacked:')\n",
    "    print(X.shape)\n",
    "    print(Y.shape)\n",
    "    \n",
    "    return X, Y"
   ]
  },
  {
   "cell_type": "code",
   "execution_count": 6,
   "metadata": {},
   "outputs": [
    {
     "name": "stdout",
     "output_type": "stream",
     "text": [
      "loaded:\n",
      "(85, 180, 896)\n",
      "(85, 180, 1)\n",
      "stacked:\n",
      "(15300, 896)\n",
      "(15300, 1)\n"
     ]
    }
   ],
   "source": [
    "\n",
    "#subject = 'A'\n",
    "subject = 'B'\n",
    "num_epoches = 85\n",
    "\n",
    "X_train, Y_train = load_data(subject, 'train', num_epoches)\n",
    "\n"
   ]
  },
  {
   "cell_type": "markdown",
   "metadata": {},
   "source": [
    "## load and apply channel masks "
   ]
  },
  {
   "cell_type": "code",
   "execution_count": 7,
   "metadata": {},
   "outputs": [],
   "source": [
    "def load_channel_mask(subject, num_channels):\n",
    "    return np.loadtxt('mask/{}_chosen_channel_mask_{}.txt'.format(subject,num_channels), dtype=int)"
   ]
  },
  {
   "cell_type": "code",
   "execution_count": 8,
   "metadata": {},
   "outputs": [
    {
     "name": "stdout",
     "output_type": "stream",
     "text": [
      "[0 0 0 0 1 0 0 0 0 0 1 1 0 0 0 0 0 0 0 0 0 0 0 0 0 0 0 0 0 0 0 0 0 0 0 0 0\n",
      " 0 0 0 0 0 0 0 0 0 0 0 0 0 0 0 0 0 0 0 0 0 0 1 0 0 0 0]\n"
     ]
    }
   ],
   "source": [
    "#num_chosen_channels=2\n",
    "num_chosen_channels=4\n",
    "mask = load_channel_mask(subject,num_chosen_channels)\n",
    "#plt.plot(mask)\n",
    "print(mask)"
   ]
  },
  {
   "cell_type": "code",
   "execution_count": 9,
   "metadata": {},
   "outputs": [],
   "source": [
    "def apply_mask(X, mask):\n",
    "    data_dim = X.shape[1]\n",
    "    num_channels = len(mask)\n",
    "    samples_per_channel = int(data_dim / num_channels)\n",
    "    \n",
    "#     print(X.shape)\n",
    "#     print(data_dim)\n",
    "#     print(num_channels)\n",
    "#     print(samples_per_channel)    \n",
    "    \n",
    "    index = np.repeat(mask,samples_per_channel)\n",
    "    \n",
    "#     print(mask)\n",
    "#     print(np.repeat(mask,samples_per_channel))\n",
    "\n",
    "    return X[:,index>0]"
   ]
  },
  {
   "cell_type": "code",
   "execution_count": 10,
   "metadata": {},
   "outputs": [
    {
     "data": {
      "text/plain": [
       "(15300, 56)"
      ]
     },
     "execution_count": 10,
     "metadata": {},
     "output_type": "execute_result"
    }
   ],
   "source": [
    "X_train_chosen=apply_mask(X_train, mask)\n",
    "X_train_chosen.shape"
   ]
  },
  {
   "cell_type": "code",
   "execution_count": 11,
   "metadata": {},
   "outputs": [
    {
     "data": {
      "text/plain": [
       "(15300, 1)"
      ]
     },
     "execution_count": 11,
     "metadata": {},
     "output_type": "execute_result"
    }
   ],
   "source": [
    "Y_train.shape"
   ]
  },
  {
   "cell_type": "markdown",
   "metadata": {},
   "source": [
    "## Try training without scaling"
   ]
  },
  {
   "cell_type": "code",
   "execution_count": 12,
   "metadata": {},
   "outputs": [
    {
     "name": "stderr",
     "output_type": "stream",
     "text": [
      "/Users/yyoo/tf11/lib/python3.7/site-packages/sklearn/svm/base.py:922: ConvergenceWarning: Liblinear failed to converge, increase the number of iterations.\n",
      "  \"the number of iterations.\", ConvergenceWarning)\n"
     ]
    },
    {
     "data": {
      "text/plain": [
       "LinearSVC(C=10, class_weight=None, dual=True, fit_intercept=True,\n",
       "     intercept_scaling=1, loss='hinge', max_iter=5000, multi_class='ovr',\n",
       "     penalty='l2', random_state=42, tol=0.0001, verbose=0)"
      ]
     },
     "execution_count": 12,
     "metadata": {},
     "output_type": "execute_result"
    }
   ],
   "source": [
    "# try training\n",
    "clf = svm.LinearSVC(C=10, loss=\"hinge\", max_iter=5000, random_state=42)  # class_weight='balanced',\n",
    "\n",
    "clf.fit(X_train_chosen,Y_train.ravel())"
   ]
  },
  {
   "cell_type": "code",
   "execution_count": 13,
   "metadata": {},
   "outputs": [
    {
     "name": "stdout",
     "output_type": "stream",
     "text": [
      "0.7178213507625273\n",
      "0.45005983952357936\n"
     ]
    }
   ],
   "source": [
    "# training classfication error\n",
    "Yhat = clf.predict(X_train_chosen)\n",
    "print(np.mean(Y_train==Yhat))\n",
    "print(np.std(Y_train==Yhat))"
   ]
  },
  {
   "cell_type": "markdown",
   "metadata": {},
   "source": [
    "## Scaling matters!"
   ]
  },
  {
   "cell_type": "code",
   "execution_count": 14,
   "metadata": {},
   "outputs": [
    {
     "name": "stderr",
     "output_type": "stream",
     "text": [
      "/Users/yyoo/tf11/lib/python3.7/site-packages/sklearn/svm/base.py:922: ConvergenceWarning: Liblinear failed to converge, increase the number of iterations.\n",
      "  \"the number of iterations.\", ConvergenceWarning)\n"
     ]
    },
    {
     "data": {
      "text/plain": [
       "Pipeline(memory=None,\n",
       "     steps=[('scaler', StandardScaler(copy=True, with_mean=True, with_std=True)), ('linear_svc', LinearSVC(C=10, class_weight=None, dual=True, fit_intercept=True,\n",
       "     intercept_scaling=1, loss='hinge', max_iter=5000, multi_class='ovr',\n",
       "     penalty='l2', random_state=42, tol=0.0001, verbose=0))])"
      ]
     },
     "execution_count": 14,
     "metadata": {},
     "output_type": "execute_result"
    }
   ],
   "source": [
    "## with scaling\n",
    "from sklearn.pipeline import Pipeline\n",
    "from sklearn.preprocessing import StandardScaler\n",
    "\n",
    "clf = Pipeline([\n",
    "        (\"scaler\", StandardScaler()),\n",
    "        (\"linear_svc\", LinearSVC(C=10, loss=\"hinge\", max_iter=5000, random_state=42)), # class_weight='balanced', \n",
    "    ])\n",
    "\n",
    "clf.fit(X_train_chosen,Y_train.ravel())"
   ]
  },
  {
   "cell_type": "code",
   "execution_count": 15,
   "metadata": {},
   "outputs": [
    {
     "name": "stdout",
     "output_type": "stream",
     "text": [
      "0.8333333333333334\n",
      "0.37267799625000436\n"
     ]
    }
   ],
   "source": [
    "# training classfication error\n",
    "Yhat = clf.predict(X_train_chosen)\n",
    "print(np.mean(Y_train==Yhat))\n",
    "print(np.std(Y_train==Yhat))\n",
    "\n",
    "## SCALING IS IMPORTANT!"
   ]
  },
  {
   "cell_type": "code",
   "execution_count": null,
   "metadata": {},
   "outputs": [],
   "source": [
    "## TODO\n"
   ]
  },
  {
   "cell_type": "code",
   "execution_count": null,
   "metadata": {},
   "outputs": [],
   "source": []
  },
  {
   "cell_type": "code",
   "execution_count": null,
   "metadata": {},
   "outputs": [],
   "source": []
  },
  {
   "cell_type": "code",
   "execution_count": null,
   "metadata": {},
   "outputs": [],
   "source": []
  },
  {
   "cell_type": "markdown",
   "metadata": {},
   "source": [
    "## Let's do cross-validation"
   ]
  },
  {
   "cell_type": "code",
   "execution_count": 73,
   "metadata": {},
   "outputs": [
    {
     "name": "stderr",
     "output_type": "stream",
     "text": [
      "\n",
      "\n",
      "  0%|          | 0/9 [00:00<?, ?it/s]\u001b[A\u001b[A"
     ]
    },
    {
     "name": "stdout",
     "output_type": "stream",
     "text": [
      "[1.e-05 1.e-04 1.e-03 1.e-02 1.e-01 1.e+00 1.e+01 1.e+02 1.e+03]\n",
      "number of chosen channels=2\n"
     ]
    },
    {
     "name": "stderr",
     "output_type": "stream",
     "text": [
      "\n",
      "\n",
      " 11%|█         | 1/9 [00:01<00:12,  1.54s/it]\u001b[A\u001b[A\n",
      "\n",
      " 22%|██▏       | 2/9 [00:02<00:08,  1.24s/it]\u001b[A\u001b[A\n",
      "\n",
      " 33%|███▎      | 3/9 [00:02<00:06,  1.03s/it]\u001b[A\u001b[A\n",
      "\n",
      " 44%|████▍     | 4/9 [00:03<00:04,  1.11it/s]\u001b[A\u001b[A\n",
      "\n",
      " 56%|█████▌    | 5/9 [00:04<00:03,  1.00it/s]\u001b[A\u001b[A\n",
      "\n",
      " 67%|██████▋   | 6/9 [00:13<00:10,  3.37s/it]\u001b[A\u001b[A\n",
      "\n",
      " 78%|███████▊  | 7/9 [00:23<00:10,  5.32s/it]\u001b[A\u001b[A\n",
      "\n",
      " 89%|████████▉ | 8/9 [00:33<00:06,  6.76s/it]\u001b[A\u001b[A\n",
      "\n",
      "100%|██████████| 9/9 [00:43<00:00,  7.74s/it]\u001b[A\u001b[A\n",
      "\n",
      "\u001b[A\u001b[A"
     ]
    },
    {
     "name": "stdout",
     "output_type": "stream",
     "text": [
      "max accuracy = 0.83 when C=10^-4\n"
     ]
    },
    {
     "name": "stderr",
     "output_type": "stream",
     "text": [
      "\n",
      "\n",
      "  0%|          | 0/9 [00:00<?, ?it/s]\u001b[A\u001b[A"
     ]
    },
    {
     "name": "stdout",
     "output_type": "stream",
     "text": [
      "number of chosen channels=4\n"
     ]
    },
    {
     "name": "stderr",
     "output_type": "stream",
     "text": [
      "\n",
      "\n",
      " 11%|█         | 1/9 [00:00<00:05,  1.48it/s]\u001b[A\u001b[A\n",
      "\n",
      " 22%|██▏       | 2/9 [00:01<00:04,  1.49it/s]\u001b[A\u001b[A\n",
      "\n",
      " 33%|███▎      | 3/9 [00:01<00:03,  1.74it/s]\u001b[A\u001b[A\n",
      "\n",
      " 44%|████▍     | 4/9 [00:02<00:02,  1.67it/s]\u001b[A\u001b[A\n",
      "\n",
      " 56%|█████▌    | 5/9 [00:05<00:05,  1.47s/it]\u001b[A\u001b[A\n",
      "\n",
      " 67%|██████▋   | 6/9 [00:19<00:15,  5.19s/it]\u001b[A\u001b[A\n",
      "\n",
      " 78%|███████▊  | 7/9 [00:34<00:16,  8.00s/it]\u001b[A\u001b[A\n",
      "\n",
      " 89%|████████▉ | 8/9 [00:49<00:10, 10.05s/it]\u001b[A\u001b[A\n",
      "\n",
      "100%|██████████| 9/9 [01:03<00:00, 11.48s/it]\u001b[A\u001b[A\n",
      "\n",
      "\u001b[A\u001b[A"
     ]
    },
    {
     "name": "stdout",
     "output_type": "stream",
     "text": [
      "max accuracy = 0.83 when C=10^-4\n"
     ]
    },
    {
     "name": "stderr",
     "output_type": "stream",
     "text": [
      "\n",
      "\n",
      "  0%|          | 0/9 [00:00<?, ?it/s]\u001b[A\u001b[A"
     ]
    },
    {
     "name": "stdout",
     "output_type": "stream",
     "text": [
      "number of chosen channels=8\n"
     ]
    },
    {
     "name": "stderr",
     "output_type": "stream",
     "text": [
      "\n",
      "\n",
      " 11%|█         | 1/9 [00:00<00:04,  1.69it/s]\u001b[A\u001b[A\n",
      "\n",
      " 22%|██▏       | 2/9 [00:01<00:05,  1.38it/s]\u001b[A\u001b[A\n",
      "\n",
      " 33%|███▎      | 3/9 [00:02<00:04,  1.36it/s]\u001b[A\u001b[A\n",
      "\n",
      " 44%|████▍     | 4/9 [00:03<00:04,  1.00it/s]\u001b[A\u001b[A\n",
      "\n",
      " 56%|█████▌    | 5/9 [00:14<00:15,  3.88s/it]\u001b[A\u001b[A\n",
      "\n",
      " 67%|██████▋   | 6/9 [00:36<00:28,  9.39s/it]\u001b[A\u001b[A\n",
      "\n",
      " 78%|███████▊  | 7/9 [00:59<00:26, 13.45s/it]\u001b[A\u001b[A\n",
      "\n",
      " 89%|████████▉ | 8/9 [01:23<00:16, 16.42s/it]\u001b[A\u001b[A\n",
      "\n",
      "100%|██████████| 9/9 [01:46<00:00, 18.45s/it]\u001b[A\u001b[A\n",
      "\n",
      "\u001b[A\u001b[A"
     ]
    },
    {
     "name": "stdout",
     "output_type": "stream",
     "text": [
      "max accuracy = 0.83 when C=10^-4\n"
     ]
    },
    {
     "name": "stderr",
     "output_type": "stream",
     "text": [
      "\n",
      "\n",
      "  0%|          | 0/9 [00:00<?, ?it/s]\u001b[A\u001b[A"
     ]
    },
    {
     "name": "stdout",
     "output_type": "stream",
     "text": [
      "number of chosen channels=16\n"
     ]
    },
    {
     "name": "stderr",
     "output_type": "stream",
     "text": [
      "\n",
      "\n",
      " 11%|█         | 1/9 [00:01<00:09,  1.14s/it]\u001b[A\u001b[A\n",
      "\n",
      " 22%|██▏       | 2/9 [00:02<00:09,  1.29s/it]\u001b[A\u001b[A\n",
      "\n",
      " 33%|███▎      | 3/9 [00:04<00:08,  1.46s/it]\u001b[A\u001b[A\n",
      "\n",
      " 44%|████▍     | 4/9 [00:08<00:10,  2.20s/it]\u001b[A\u001b[A\n",
      "\n",
      " 56%|█████▌    | 5/9 [00:39<00:43, 10.84s/it]\u001b[A\u001b[A\n",
      "\n",
      " 67%|██████▋   | 6/9 [01:13<00:53, 17.79s/it]\u001b[A\u001b[A\n",
      "\n",
      " 78%|███████▊  | 7/9 [01:48<00:46, 23.06s/it]\u001b[A\u001b[A\n",
      "\n",
      " 89%|████████▉ | 8/9 [02:24<00:26, 26.81s/it]\u001b[A\u001b[A\n",
      "\n",
      "100%|██████████| 9/9 [02:59<00:00, 29.40s/it]\u001b[A\u001b[A\n",
      "\n",
      "\u001b[A\u001b[A"
     ]
    },
    {
     "name": "stdout",
     "output_type": "stream",
     "text": [
      "max accuracy = 0.83 when C=10^-4\n",
      "number of chosen channels=32\n"
     ]
    },
    {
     "name": "stderr",
     "output_type": "stream",
     "text": [
      "\n",
      "\n",
      "  0%|          | 0/9 [00:00<?, ?it/s]\u001b[A\u001b[A\n",
      "\n",
      " 11%|█         | 1/9 [00:02<00:19,  2.42s/it]\u001b[A\u001b[A\n",
      "\n",
      " 22%|██▏       | 2/9 [00:16<00:40,  5.84s/it]\u001b[A\u001b[A\n",
      "\n",
      " 33%|███▎      | 3/9 [00:21<00:34,  5.75s/it]\u001b[A\u001b[A\n",
      "\n",
      " 44%|████▍     | 4/9 [00:34<00:39,  7.88s/it]\u001b[A\u001b[A\n",
      "\n",
      " 56%|█████▌    | 5/9 [01:22<01:19, 19.79s/it]\u001b[A\u001b[A\n",
      "\n",
      " 67%|██████▋   | 6/9 [02:11<01:26, 28.72s/it]\u001b[A\u001b[A\n",
      "\n",
      " 78%|███████▊  | 7/9 [03:04<01:11, 35.90s/it]\u001b[A\u001b[A\n",
      "\n",
      " 89%|████████▉ | 8/9 [03:57<00:41, 41.09s/it]\u001b[A\u001b[A\n",
      "\n",
      "100%|██████████| 9/9 [04:50<00:00, 44.58s/it]\u001b[A\u001b[A\n",
      "\n",
      "\u001b[A\u001b[A"
     ]
    },
    {
     "name": "stdout",
     "output_type": "stream",
     "text": [
      "max accuracy = 0.83 when C=10^-4\n",
      "number of chosen channels=64\n"
     ]
    },
    {
     "name": "stderr",
     "output_type": "stream",
     "text": [
      "\n",
      "\n",
      "  0%|          | 0/9 [00:00<?, ?it/s]\u001b[A\u001b[A\n",
      "\n",
      " 11%|█         | 1/9 [00:04<00:33,  4.13s/it]\u001b[A\u001b[A\n",
      "\n",
      " 22%|██▏       | 2/9 [00:46<01:49, 15.60s/it]\u001b[A\u001b[A\n",
      "\n",
      " 33%|███▎      | 3/9 [00:59<01:29, 14.84s/it]\u001b[A\u001b[A\n",
      "\n",
      " 44%|████▍     | 4/9 [01:44<01:58, 23.74s/it]\u001b[A\u001b[A\n",
      "\n",
      " 56%|█████▌    | 5/9 [02:48<02:23, 35.83s/it]\u001b[A\u001b[A\n",
      "\n",
      " 67%|██████▋   | 6/9 [03:53<02:14, 44.83s/it]\u001b[A\u001b[A\n",
      "\n",
      " 78%|███████▊  | 7/9 [05:06<01:46, 53.04s/it]\u001b[A\u001b[A\n",
      "\n",
      " 89%|████████▉ | 8/9 [06:18<00:58, 58.84s/it]\u001b[A\u001b[A\n",
      "\n",
      "100%|██████████| 9/9 [07:30<00:00, 62.91s/it]\u001b[A\u001b[A\n",
      "\n",
      "\u001b[A\u001b[A"
     ]
    },
    {
     "name": "stdout",
     "output_type": "stream",
     "text": [
      "max accuracy = 0.83 when C=10^-4\n"
     ]
    },
    {
     "data": {
      "image/png": "[encoded data removed]",
      "text/plain": [
       "<Figure size 576x324 with 1 Axes>"
      ]
     },
     "metadata": {
      "needs_background": "light"
     },
     "output_type": "display_data"
    },
    {
     "data": {
      "image/png": "[encoded data removed]",
      "text/plain": [
       "<Figure size 576x324 with 1 Axes>"
      ]
     },
     "metadata": {
      "needs_background": "light"
     },
     "output_type": "display_data"
    },
    {
     "data": {
      "image/png": "[encoded data removed]",
      "text/plain": [
       "<Figure size 576x324 with 1 Axes>"
      ]
     },
     "metadata": {
      "needs_background": "light"
     },
     "output_type": "display_data"
    },
    {
     "data": {
      "image/png": "[encoded data removed]",
      "text/plain": [
       "<Figure size 576x324 with 1 Axes>"
      ]
     },
     "metadata": {
      "needs_background": "light"
     },
     "output_type": "display_data"
    },
    {
     "data": {
      "image/png": "[encoded data removed]",
      "text/plain": [
       "<Figure size 576x324 with 1 Axes>"
      ]
     },
     "metadata": {
      "needs_background": "light"
     },
     "output_type": "display_data"
    },
    {
     "data": {
      "image/png": "[encoded data removed]",
      "text/plain": [
       "<Figure size 576x324 with 1 Axes>"
      ]
     },
     "metadata": {
      "needs_background": "light"
     },
     "output_type": "display_data"
    }
   ],
   "source": [
    "# repeat cross-validation for a wide range of C\n",
    "from sklearn.model_selection import cross_val_score\n",
    "\n",
    "#Cs = 10**np.linspace(-20,20,41)\n",
    "Cs = 10**np.linspace(-5,3,9)\n",
    "print(Cs)\n",
    "k = 5\n",
    "\n",
    "for num_chosen_channels in (2, 4, 8, 16, 32, 64):\n",
    "    print(\"number of chosen channels={}\".format(num_chosen_channels))\n",
    "    mask = load_channel_mask(subject,num_chosen_channels)\n",
    "\n",
    "    X_train_chosen=apply_mask(X_train, mask)\n",
    "    X_train_chosen.shape\n",
    "\n",
    "\n",
    "    accuracy = list()\n",
    "    for C in tqdm(Cs):\n",
    "        # model: linear SVM \n",
    "        clf = Pipeline([\n",
    "            (\"scaler\", StandardScaler()),\n",
    "            (\"linear_svc\", LinearSVC(C=C, loss=\"hinge\",  random_state=42)), # class_weight='balanced',\n",
    "        ])   \n",
    "    \n",
    "        accuracy.append(cross_val_score(clf, X_train_chosen, Y_train.ravel(), cv=k, n_jobs=-1))\n",
    "\n",
    "        \n",
    "    # calc mean accuracy\n",
    "    mean_accuracy = np.mean(accuracy,axis=1)\n",
    "    #print(mean_accuracy)\n",
    "\n",
    "    maxIdx=np.argmax(mean_accuracy)\n",
    "    print(\"max accuracy = {:.2f} when C=10^{:.0f}\".format(mean_accuracy[maxIdx], np.log10(Cs[maxIdx])))\n",
    "\n",
    "    np.savetxt(\"{}_training_accuracy_SVM_ch{}.txt\".format(subject,num_chosen_channels), mean_accuracy, fmt=\"%.2f\")\n",
    "\n",
    "    \n",
    "    # save model    \n",
    "    joblib.dump(clf, \"{}_model_SVM_ch{}.model\".format(subject,num_chosen_channels)) \n",
    "    \n",
    "\n",
    "    # plot results\n",
    "    plt.figure(figsize=(8, 4.5))\n",
    "\n",
    "    plt.plot(np.log10(Cs),mean_accuracy)\n",
    "    #plt.plot(np.log10(Cs), baseAcc*np.ones_like(Cs), '--')\n",
    "    plt.xlabel('log_10(C)')\n",
    "    plt.ylabel('accuracy')\n",
    "\n",
    "    plt.title(\"max accuracy = {:.2f} when C=10^{:.0f}\".format(mean_accuracy[maxIdx], np.log10(Cs[maxIdx])))\n",
    "    \n",
    "    plt.savefig(\"{}_training_accuracy_SVM_ch{}.pdf\".format(subject,num_chosen_channels))\n",
    "    plt.savefig(\"{}_training_accuracy_SVM_ch{}.png\".format(subject,num_chosen_channels))\n"
   ]
  },
  {
   "cell_type": "markdown",
   "metadata": {},
   "source": [
    "## Combine and plot "
   ]
  },
  {
   "cell_type": "code",
   "execution_count": 74,
   "metadata": {},
   "outputs": [
    {
     "data": {
      "text/plain": [
       "(6, 9)"
      ]
     },
     "execution_count": 74,
     "metadata": {},
     "output_type": "execute_result"
    }
   ],
   "source": [
    "accuracy = list()\n",
    "Chs = (2, 4, 8, 16, 32, 64)\n",
    "for num_chosen_channels in Chs:\n",
    "    mean_accuracy = np.loadtxt(\"{}_training_accuracy_SVM_ch{}.txt\".format(subject,num_chosen_channels))\n",
    "    accuracy.append(mean_accuracy)\n",
    "\n",
    "accuracy = np.array(accuracy)\n",
    "accuracy.shape"
   ]
  },
  {
   "cell_type": "code",
   "execution_count": 75,
   "metadata": {},
   "outputs": [
    {
     "data": {
      "image/png": "[encoded data removed]",
      "text/plain": [
       "<Figure size 576x432 with 1 Axes>"
      ]
     },
     "metadata": {
      "needs_background": "light"
     },
     "output_type": "display_data"
    }
   ],
   "source": [
    "plt.figure(figsize=(8,6))\n",
    "\n",
    "plt.plot(np.log(Cs), accuracy.transpose())\n",
    "plt.legend(Chs)\n",
    "plt.xlabel('log_10(C)')\n",
    "\n",
    "plt.savefig(\"{}_training_accuracy_SVM.pdf\".format(subject))\n",
    "plt.savefig(\"{}_training_accuracy_SVM.png\".format(subject))"
   ]
  },
  {
   "cell_type": "code",
   "execution_count": 76,
   "metadata": {},
   "outputs": [
    {
     "data": {
      "image/png": "[encoded data removed]",
      "text/plain": [
       "<Figure size 576x432 with 2 Axes>"
      ]
     },
     "metadata": {
      "needs_background": "light"
     },
     "output_type": "display_data"
    }
   ],
   "source": [
    "\n",
    "plt.figure(figsize=(8,6))\n",
    "\n",
    "plt.imshow(accuracy, cmap='RdBu_r',interpolation=\"none\")\n",
    "plt.colorbar()\n",
    "plt.xticks(range(len(Cs)), [\"{:.0f}\".format(np.log10(x)) for x in Cs])\n",
    "plt.xlabel('log_10(C)')\n",
    "plt.yticks(range(len(Chs)), [\"{:.0f}\".format(y) for y in Chs])\n",
    "plt.ylabel('number of channels')\n",
    "plt.title('training accuracy')\n",
    "\n",
    "plt.savefig(\"{}_training_accuracy_SVM_image.pdf\".format(subject))\n",
    "plt.savefig(\"{}_training_accuracy_SVM_image.png\".format(subject))\n",
    "\n",
    "\n",
    "    "
   ]
  },
  {
   "cell_type": "markdown",
   "metadata": {},
   "source": [
    "## Joint training"
   ]
  },
  {
   "cell_type": "code",
   "execution_count": 67,
   "metadata": {},
   "outputs": [
    {
     "name": "stdout",
     "output_type": "stream",
     "text": [
      "loaded:\n",
      "(85, 180, 896)\n",
      "(85, 180, 1)\n",
      "stacked:\n",
      "(15300, 896)\n",
      "(15300, 1)\n",
      "loaded:\n",
      "(85, 180, 896)\n",
      "(85, 180, 1)\n",
      "stacked:\n",
      "(15300, 896)\n",
      "(15300, 1)\n"
     ]
    }
   ],
   "source": [
    "# load data\n",
    "num_epoches = 85\n",
    "\n",
    "X_train_A, Y_train_A = load_data('A', 'train', num_epoches)\n",
    "X_train_B, Y_train_B = load_data('B', 'train', num_epoches)"
   ]
  },
  {
   "cell_type": "code",
   "execution_count": 68,
   "metadata": {},
   "outputs": [
    {
     "name": "stdout",
     "output_type": "stream",
     "text": [
      "(30600, 896)\n",
      "(30600, 1)\n"
     ]
    }
   ],
   "source": [
    "# combine\n",
    "X_train = np.vstack((X_train_A,X_train_B))\n",
    "print(X_train.shape)\n",
    "Y_train = np.vstack((Y_train_A, Y_train_B))\n",
    "print(Y_train.shape)"
   ]
  },
  {
   "cell_type": "code",
   "execution_count": 61,
   "metadata": {},
   "outputs": [
    {
     "data": {
      "text/plain": [
       "<matplotlib.legend.Legend at 0x127c4f0f0>"
      ]
     },
     "execution_count": 61,
     "metadata": {},
     "output_type": "execute_result"
    },
    {
     "data": {
      "image/png": "[encoded data removed]",
      "text/plain": [
       "<Figure size 432x288 with 1 Axes>"
      ]
     },
     "metadata": {
      "needs_background": "light"
     },
     "output_type": "display_data"
    }
   ],
   "source": [
    "#num_chosen_channels=2\n",
    "num_chosen_channels=4\n",
    "mask_A = load_channel_mask('A',num_chosen_channels)\n",
    "mask_B = load_channel_mask('B',num_chosen_channels)\n",
    "\n",
    "plt.plot(mask_A)\n",
    "plt.plot(mask_B)\n",
    "plt.xlabel('channel')\n",
    "plt.legend(('subject A','subject B'))\n",
    "#print(mask)"
   ]
  },
  {
   "cell_type": "code",
   "execution_count": 62,
   "metadata": {},
   "outputs": [],
   "source": [
    "# combine mask by AND\n",
    "subject='AandB'\n",
    "Chs = (2, 4, 8, 16, 32, 64)\n",
    "for num_chosen_channels in Chs:\n",
    "    mask_A = load_channel_mask('A',num_chosen_channels)\n",
    "    mask_B = load_channel_mask('B',num_chosen_channels)\n",
    "    \n",
    "    mask_AB = mask_A*mask_B\n",
    "    np.savetxt('mask/{}_chosen_channel_mask_{}.txt'.format(subject,num_chosen_channels), mask_AB, fmt=\"%d\")"
   ]
  },
  {
   "cell_type": "code",
   "execution_count": null,
   "metadata": {},
   "outputs": [],
   "source": [
    "# run the cross validation block\n",
    "\n"
   ]
  },
  {
   "cell_type": "code",
   "execution_count": 70,
   "metadata": {},
   "outputs": [],
   "source": [
    "# combine mask by OR\n",
    "subject='AorB'\n",
    "Chs = (2, 4, 8, 16, 32, 64)\n",
    "for num_chosen_channels in Chs:\n",
    "    mask_A = load_channel_mask('A',num_chosen_channels)\n",
    "    mask_B = load_channel_mask('B',num_chosen_channels)\n",
    "    \n",
    "    mask_AB = 1-(1-mask_A)*(1-mask_B)\n",
    "    np.savetxt('mask/{}_chosen_channel_mask_{}.txt'.format(subject,num_chosen_channels), mask_AB, fmt=\"%d\")"
   ]
  },
  {
   "cell_type": "code",
   "execution_count": 71,
   "metadata": {},
   "outputs": [],
   "source": [
    "# run the cross validation block\n",
    "\n"
   ]
  },
  {
   "cell_type": "code",
   "execution_count": 72,
   "metadata": {},
   "outputs": [
    {
     "data": {
      "text/plain": [
       "'AorB'"
      ]
     },
     "execution_count": 72,
     "metadata": {},
     "output_type": "execute_result"
    }
   ],
   "source": [
    "subject"
   ]
  },
  {
   "cell_type": "code",
   "execution_count": null,
   "metadata": {},
   "outputs": [],
   "source": []
  },
  {
   "cell_type": "markdown",
   "metadata": {},
   "source": [
    "## Load test data"
   ]
  },
  {
   "cell_type": "code",
   "execution_count": null,
   "metadata": {},
   "outputs": [],
   "source": []
  },
  {
   "cell_type": "code",
   "execution_count": null,
   "metadata": {},
   "outputs": [],
   "source": []
  },
  {
   "cell_type": "code",
   "execution_count": null,
   "metadata": {},
   "outputs": [],
   "source": []
  },
  {
   "cell_type": "markdown",
   "metadata": {},
   "source": [
    "**below is old code from https://github.com/ys7yoo/human-plus/blob/master/classifyUsingSVM.ipynb**"
   ]
  },
  {
   "cell_type": "markdown",
   "metadata": {},
   "source": [
    "\n",
    "## Adding `balancing` \n"
   ]
  },
  {
   "cell_type": "code",
   "execution_count": null,
   "metadata": {},
   "outputs": [],
   "source": [
    "# repeat for a wide range of C\n",
    "Cs = 10**np.linspace(-20,20,41)\n",
    "Cs\n",
    "\n",
    "k = 5\n",
    "scores = list()\n",
    "for C in Cs:\n",
    "    clf = Pipeline([\n",
    "        (\"scaler\", StandardScaler()),\n",
    "        (\"linear_svc\", LinearSVC(C=C, loss=\"hinge\",  class_weight='balanced', random_state=42)),  # balanced!\n",
    "    ])\n",
    "\n",
    "    scores.append(cross_val_score(clf, X, Y, cv=k))\n",
    "    \n",
    "#scores\n",
    "\n",
    "mean_scores_balanced = np.mean(scores,axis=1)\n",
    "#print(mean_scores_balanced)\n",
    "\n",
    "maxIdx=np.argmax(mean_scores_balanced)\n",
    "print(\"max accuracy = {} when C={}\".format(mean_scores_balanced[maxIdx], Cs[maxIdx]))\n",
    "\n",
    "\n",
    "\n",
    "\n",
    "import matplotlib.pyplot as plt\n",
    "%matplotlib inline\n",
    "\n",
    "plt.plot(np.log10(Cs),mean_scores)\n",
    "plt.plot(np.log10(Cs),mean_scores_balanced)\n",
    "plt.plot(np.log10(Cs), baseAcc*np.ones_like(Cs), '--')\n",
    "plt.legend(('equal weight','balanced', 'baseline'))\n",
    "plt.xlabel('log_10(C)')\n",
    "plt.ylabel('accuracy')\n",
    "    "
   ]
  },
  {
   "cell_type": "code",
   "execution_count": null,
   "metadata": {},
   "outputs": [],
   "source": [
    "# let's repeat & check confusion matrix!\n",
    "\n",
    "clf = Pipeline([\n",
    "    (\"scaler\", StandardScaler()),\n",
    "    (\"linear_svc\", LinearSVC(C=10, loss=\"hinge\", random_state=42)),  # balanced!\n",
    "    #(\"linear_svc\", LinearSVC(C=10, loss=\"hinge\",  class_weight='balanced', random_state=42)),  # balanced!\n",
    "])\n",
    "    \n",
    "\n",
    "from sklearn.model_selection import StratifiedShuffleSplit\n",
    "from sklearn.metrics import confusion_matrix\n",
    "\n",
    "split = StratifiedShuffleSplit(n_splits=5, test_size=1/5, random_state=42)\n",
    "\n",
    "k = 0\n",
    "\n",
    "acc_train = list()\n",
    "acc_test = list()\n",
    "for train_index, test_index in split.split(X,Y):\n",
    "#    print(train_index)\n",
    "#    print(test_index)\n",
    "    if k==0:   # print info\n",
    "        print(\"In the training set of size{},\".format(Y[train_index].shape))\n",
    "        print(\"cor: {}, incor: {}\".format(sum(Y[train_index]==1),sum(Y[train_index]==-1)))\n",
    "        print(\"In the training set of size{},\".format(Y[test_index].shape))    \n",
    "        print(\"cor: {}, incor: {}\".format(sum(Y[test_index]==1),sum(Y[test_index]==-1)))\n",
    "        baseAcc = sum(Y[test_index]==1) / (sum(Y[test_index]==1)+sum(Y[test_index]==-1)) \n",
    "        print(\"base accuracy = {}\".format(baseAcc))\n",
    "\n",
    "    X_train = X[train_index,:]\n",
    "    Y_train = Y[train_index]\n",
    "    X_test = X[test_index,:]    \n",
    "    Y_test = Y[test_index]\n",
    "    \n",
    "    clf.fit(X_train,Y_train)\n",
    "\n",
    "    # training error\n",
    "    Yhat_train = clf.predict(X_train)\n",
    "    acc_train.append(np.mean(Yhat_train==Y_train))\n",
    "\n",
    "    # test error\n",
    "    Yhat_test = clf.predict(X_test)\n",
    "    acc_test.append(np.mean(Yhat_test==Y_test))\n",
    " \n",
    "    cm = confusion_matrix(Y_test, Yhat_test, labels=(1,-1))\n",
    "    print(cm)\n",
    "\n",
    "#     # let's manually check\n",
    "#     print(sum((Y_test == 1) & (Yhat_test == 1)))    # 1s are (correctly) predicted as 1s\n",
    "#     print(sum((Y_test == 1) & (Yhat_test == -1)))   # 1s are predicted as -1\n",
    "#     print(sum((Y_test == -1) & (Yhat_test == 1)))   # -1s are predicted as 1\n",
    "#     print(sum((Y_test == -1) & (Yhat_test == -1)))  # -1s are (correctly) predicted as -1\n",
    "\n",
    "    \n",
    "    k = k + 1\n",
    "print(\"training accuracy\")    \n",
    "print(acc_train)\n",
    "print(\"test accuracy\")    \n",
    "print(acc_test)\n",
    "print(np.mean(acc_test))"
   ]
  },
  {
   "cell_type": "code",
   "execution_count": null,
   "metadata": {},
   "outputs": [],
   "source": [
    "# re-train using all the data (CAN I DO THIS?)\n",
    "\n",
    "clf.fit(X,Y)\n",
    "\n",
    "# get coefficient of SVM\n",
    "w = clf.named_steps['linear_svc'].coef_\n",
    "w = w.ravel()\n",
    "#w.shape\n",
    "plt.plot(w)\n",
    "plt.ylabel('w')\n",
    "plt.xlabel('feature index')\n",
    "\n",
    "\n",
    "w.shape\n",
    "#listSelectedFeature.shape\n",
    "listSelectedFeature[w>0.1,:]\n",
    "\n",
    "listSelectedFeature[w<-0.1,:]\n"
   ]
  },
  {
   "cell_type": "markdown",
   "metadata": {},
   "source": [
    "## So, conclusions are\n",
    "* linear SVM does *NOT* work for p<0.05\n",
    "* linear SVM does workf for p<0.1"
   ]
  },
  {
   "cell_type": "markdown",
   "metadata": {},
   "source": [
    "## Nonlinear SVMs"
   ]
  },
  {
   "cell_type": "code",
   "execution_count": null,
   "metadata": {},
   "outputs": [],
   "source": [
    "from sklearn.pipeline import Pipeline\n",
    "\n",
    "rbf_kernel_svm_clf = Pipeline([\n",
    "        (\"scaler\", StandardScaler()),\n",
    "        (\"svm_clf\", svm.SVC(kernel=\"rbf\", gamma=2, C=10,random_state=42))   # class_weight='balanced',\n",
    "    ])\n",
    "    \n",
    "rbf_kernel_svm_clf.fit(X, Y)\n",
    "\n",
    "Yhat=rbf_kernel_svm_clf.predict(X)\n",
    "print(np.mean(Y==Yhat))\n",
    "plt.plot(Yhat)"
   ]
  },
  {
   "cell_type": "markdown",
   "metadata": {},
   "source": [
    "## Cross validation with nonlinear SVM"
   ]
  },
  {
   "cell_type": "code",
   "execution_count": null,
   "metadata": {},
   "outputs": [],
   "source": [
    "# repeat for a wide range of gamma and C\n",
    "\n",
    "Gs=2**np.linspace(-7,3,11)\n",
    "Gs\n",
    "Cs = 10**np.linspace(-20,20,41)\n",
    "Cs\n",
    "\n",
    "\n",
    "# unbalanced \n",
    "k = 5\n",
    "gs = list()\n",
    "cs = list()\n",
    "scores = list()\n",
    "for G in Gs:\n",
    "    print(\"gamma={}\".format(G))\n",
    "    for C in Cs:\n",
    "        rbf_kernel_svm_clf = Pipeline([\n",
    "            (\"scaler\", StandardScaler()),\n",
    "            (\"svm_clf\", svm.SVC(kernel=\"rbf\", gamma=G, C=C,random_state=42))   # class_weight='balanced',\n",
    "        ])\n",
    "        gs.append(G)\n",
    "        cs.append(C)\n",
    "        scores.append(cross_val_score(rbf_kernel_svm_clf, X, Y, cv=k))\n",
    "\n",
    "\n",
    "mean_scores = np.mean(scores,axis=1)\n",
    "#print(mean_scores)    \n",
    "\n",
    "\n",
    "maxIdx=np.argmax(mean_scores)\n",
    "print(\"max accuracy = {} when gamma={} and C={}\".format(mean_scores[maxIdx], gs[maxIdx], cs[maxIdx]))\n",
    "\n",
    "\n",
    "\n",
    "\n",
    "# save results to files\n",
    "np.savetxt(\"gamma.txt\", gs)\n",
    "np.savetxt(\"C.txt\", Cs)\n",
    "np.savetxt(\"scores.txt\", scores)\n",
    "np.savetxt(\"mean_scores.txt\", mean_scores)\n"
   ]
  },
  {
   "cell_type": "code",
   "execution_count": null,
   "metadata": {},
   "outputs": [],
   "source": [
    "import matplotlib.pyplot as plt\n",
    "%matplotlib inline\n",
    "\n",
    "plt.plot(mean_scores)\n",
    "#plt.plot(np.log10(Cs), mean_scores)\n",
    "plt.plot(baseAcc*np.ones_like(mean_scores), '--')\n",
    "plt.xlabel('(gamma,C)')\n",
    "plt.ylabel('accuracy')"
   ]
  },
  {
   "cell_type": "code",
   "execution_count": null,
   "metadata": {},
   "outputs": [],
   "source": [
    "0.8905555555555555*9"
   ]
  },
  {
   "cell_type": "markdown",
   "metadata": {},
   "source": [
    "## add balance"
   ]
  },
  {
   "cell_type": "code",
   "execution_count": null,
   "metadata": {},
   "outputs": [],
   "source": [
    "## add balance\n",
    "\n",
    "Gs=2**np.linspace(-7,3,11)\n",
    "Gs\n",
    "Cs = 10**np.linspace(-20,20,41)\n",
    "Cs\n",
    "\n",
    "\n",
    "# unbalanced \n",
    "k = 5\n",
    "gs = list()\n",
    "cs = list()\n",
    "scores_balanced = list()\n",
    "for G in Gs:\n",
    "    print(\"gamma={}\".format(G))\n",
    "    for C in Cs:\n",
    "        rbf_kernel_svm_clf = Pipeline([\n",
    "            (\"scaler\", StandardScaler()),\n",
    "            (\"svm_clf\", svm.SVC(kernel=\"rbf\", gamma=G, C=C, class_weight='balanced', random_state=42))   # ,\n",
    "        ])\n",
    "        gs.append(G)\n",
    "        cs.append(C)\n",
    "        scores_balanced.append(cross_val_score(rbf_kernel_svm_clf, X, Y, cv=k))\n",
    "\n",
    "\n",
    "mean_scores_balanced = np.mean(scores_balanced,axis=1)\n",
    "#print(mean_scores)    \n",
    "\n",
    "\n",
    "maxIdx=np.argmax(mean_scores_balanced)\n",
    "print(\"max accuracy = {} when gamma={} and C={}\".format(mean_scores_balanced[maxIdx], gs[maxIdx], cs[maxIdx]))\n",
    "\n",
    "\n",
    "\n",
    "\n",
    "# save results to files\n",
    "np.savetxt(\"gamma_balanced.txt\", gs)\n",
    "np.savetxt(\"C_balanced.txt\", Cs)\n",
    "np.savetxt(\"scores_balanced.txt\", scores_balanced)\n",
    "np.savetxt(\"mean_scores_balanced.txt\", mean_scores_balanced)\n"
   ]
  },
  {
   "cell_type": "code",
   "execution_count": null,
   "metadata": {},
   "outputs": [],
   "source": [
    "import matplotlib.pyplot as plt\n",
    "%matplotlib inline\n",
    "\n",
    "plt.plot(mean_scores)\n",
    "#plt.plot(np.log10(Cs), mean_scores)\n",
    "plt.plot(baseAcc*np.ones_like(mean_scores), '--')\n",
    "plt.xlabel('(gamma,C)')\n",
    "plt.ylabel('accuracy')"
   ]
  },
  {
   "cell_type": "code",
   "execution_count": null,
   "metadata": {},
   "outputs": [],
   "source": [
    "# refit using the best param\n",
    "rbf_kernel_svm_clf = Pipeline([\n",
    "    (\"scaler\", StandardScaler()),\n",
    "    (\"svm_clf\", svm.SVC(kernel=\"rbf\", gamma=0.03125, C=1, class_weight='balanced', random_state=42))   # ,\n",
    "])\n",
    "\n",
    "rbf_kernel_svm_clf.fit(X,Y)\n",
    "\n",
    "# training error = 0\n",
    "Yhat = rbf_kernel_svm_clf.predict(X)\n",
    "np.mean(Yhat==Y)"
   ]
  },
  {
   "cell_type": "code",
   "execution_count": null,
   "metadata": {},
   "outputs": [],
   "source": [
    "# let's repeat & check confusion matrix!\n",
    "\n",
    "from sklearn.model_selection import StratifiedShuffleSplit\n",
    "from sklearn.metrics import confusion_matrix\n",
    "\n",
    "split = StratifiedShuffleSplit(n_splits=5, test_size=1/5, random_state=42)\n",
    "\n",
    "k = 0\n",
    "\n",
    "acc_train = list()\n",
    "acc_test = list()\n",
    "for train_index, test_index in split.split(X,Y):\n",
    "#    print(train_index)\n",
    "#    print(test_index)\n",
    "    if k==0:   # print info\n",
    "        print(\"In the training set of size{},\".format(Y[train_index].shape))\n",
    "        print(\"cor: {}, incor: {}\".format(sum(Y[train_index]==1),sum(Y[train_index]==-1)))\n",
    "        print(\"In the training set of size{},\".format(Y[test_index].shape))    \n",
    "        print(\"cor: {}, incor: {}\".format(sum(Y[test_index]==1),sum(Y[test_index]==-1)))\n",
    "        baseAcc = sum(Y[test_index]==1) / (sum(Y[test_index]==1)+sum(Y[test_index]==-1)) \n",
    "        print(\"base accuracy = {}\".format(baseAcc))\n",
    "\n",
    "    X_train = X[train_index,:]\n",
    "    Y_train = Y[train_index]\n",
    "    X_test = X[test_index,:]    \n",
    "    Y_test = Y[test_index]\n",
    "    \n",
    "    rbf_kernel_svm_clf.fit(X_train,Y_train)\n",
    "\n",
    "    # training error\n",
    "    Yhat_train = rbf_kernel_svm_clf.predict(X_train)\n",
    "    acc_train.append(np.mean(Yhat_train==Y_train))\n",
    "\n",
    "    # test error\n",
    "    Yhat_test = rbf_kernel_svm_clf.predict(X_test)\n",
    "    acc_test.append(np.mean(Yhat_test==Y_test))\n",
    " \n",
    "    cm = confusion_matrix(Y_test, Yhat_test, labels=(1,-1))\n",
    "    print(cm)\n",
    "\n",
    "#     # let's manually check\n",
    "#     print(sum((Y_test == 1) & (Yhat_test == 1)))    # 1s are (correctly) predicted as 1s\n",
    "#     print(sum((Y_test == 1) & (Yhat_test == -1)))   # 1s are predicted as -1\n",
    "#     print(sum((Y_test == -1) & (Yhat_test == 1)))   # -1s are predicted as 1\n",
    "#     print(sum((Y_test == -1) & (Yhat_test == -1)))  # -1s are (correctly) predicted as -1\n",
    "\n",
    "    \n",
    "    k = k + 1\n",
    "print(\"training accuracy\")    \n",
    "print(acc_train)\n",
    "print(\"test accuracy\")    \n",
    "print(acc_test)\n",
    "print(np.mean(acc_test))\n",
    "print(np.std(acc_test))"
   ]
  },
  {
   "cell_type": "code",
   "execution_count": null,
   "metadata": {},
   "outputs": [],
   "source": [
    "Yhat_test"
   ]
  },
  {
   "cell_type": "code",
   "execution_count": null,
   "metadata": {},
   "outputs": [],
   "source": [
    "8/9"
   ]
  },
  {
   "cell_type": "code",
   "execution_count": null,
   "metadata": {},
   "outputs": [],
   "source": []
  }
 ],
 "metadata": {
  "kernelspec": {
   "display_name": "Python 3",
   "language": "python",
   "name": "python3"
  },
  "language_info": {
   "codemirror_mode": {
    "name": "ipython",
    "version": 3
   },
   "file_extension": ".py",
   "mimetype": "text/x-python",
   "name": "python",
   "nbconvert_exporter": "python",
   "pygments_lexer": "ipython3",
   "version": "3.7.0"
  }
 },
 "nbformat": 4,
 "nbformat_minor": 2
}
