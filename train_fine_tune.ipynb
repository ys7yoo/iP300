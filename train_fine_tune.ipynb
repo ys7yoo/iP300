{
 "cells": [
  {
   "cell_type": "code",
   "execution_count": 1,
   "metadata": {},
   "outputs": [],
   "source": [
    "from sklearn.externals import joblib # to save model\n",
    "\n",
    "from P300.data import load_data\n",
    "\n",
    "# confusion matrix\n",
    "from sklearn import metrics\n",
    "# http://scikit-learn.org/stable/modules/generated/sklearn.metrics.confusion_matrix.html\n",
    "\n",
    "\n",
    "import matplotlib.pyplot as plt\n",
    "%matplotlib inline \n",
    "\n",
    "\n",
    "%load_ext autoreload\n",
    "%autoreload 2\n",
    "\n",
    "import numpy as np"
   ]
  },
  {
   "cell_type": "code",
   "execution_count": 2,
   "metadata": {},
   "outputs": [
    {
     "name": "stdout",
     "output_type": "stream",
     "text": [
      "LogisticRegression(C=1.0, class_weight='balanced', dual=False,\n",
      "          fit_intercept=True, intercept_scaling=1, max_iter=100,\n",
      "          multi_class='warn', n_jobs=-1, penalty='l2', random_state=None,\n",
      "          solver='warn', tol=0.0001, verbose=0, warm_start=False)\n"
     ]
    }
   ],
   "source": [
    "# load classifier\n",
    "\n",
    "model_folder = 'model'\n",
    "subject='AandB'\n",
    "num_ch=64\n",
    "clf_filename=\"{}/{}_LR_ch{}.model\".format(model_folder, subject, num_ch)\n",
    "clf = joblib.load(clf_filename)\n",
    "print(clf)\n"
   ]
  },
  {
   "cell_type": "code",
   "execution_count": 6,
   "metadata": {},
   "outputs": [
    {
     "name": "stdout",
     "output_type": "stream",
     "text": [
      "loaded:\n",
      "(85, 180, 896)\n",
      "(85, 180, 1)\n",
      "(85, 180, 1)\n",
      "stacked:\n",
      "(15300, 896)\n",
      "(15300,)\n",
      "(15300,)\n",
      "loaded:\n",
      "(100, 180, 896)\n",
      "(100, 180, 1)\n",
      "(100, 180, 1)\n",
      "stacked:\n",
      "(18000, 896)\n",
      "(18000,)\n",
      "(18000,)\n"
     ]
    }
   ],
   "source": [
    "# load data A\n",
    "subject='A'\n",
    "X_train, Y_train, Code_train = load_data(subject, 'train', 85)\n",
    "X_test, Y_test, Code_test = load_data(subject, 'test', 100)"
   ]
  },
  {
   "cell_type": "code",
   "execution_count": 8,
   "metadata": {},
   "outputs": [
    {
     "data": {
      "text/plain": [
       "0.7241830065359477"
      ]
     },
     "execution_count": 8,
     "metadata": {},
     "output_type": "execute_result"
    }
   ],
   "source": [
    "clf.score(X_train, Y_train)"
   ]
  },
  {
   "cell_type": "code",
   "execution_count": 9,
   "metadata": {},
   "outputs": [
    {
     "data": {
      "text/plain": [
       "0.7098333333333333"
      ]
     },
     "execution_count": 9,
     "metadata": {},
     "output_type": "execute_result"
    }
   ],
   "source": [
    "clf.score(X_test, Y_test)"
   ]
  },
  {
   "cell_type": "markdown",
   "metadata": {},
   "source": [
    "## calc log prob"
   ]
  },
  {
   "cell_type": "code",
   "execution_count": 11,
   "metadata": {},
   "outputs": [
    {
     "data": {
      "text/plain": [
       "(15300,)"
      ]
     },
     "execution_count": 11,
     "metadata": {},
     "output_type": "execute_result"
    }
   ],
   "source": [
    "log_prob=clf.predict_log_proba(X_train)\n",
    "log_prob_diff = log_prob[:,1]-log_prob[:,0]\n",
    "log_prob_diff.shape"
   ]
  },
  {
   "cell_type": "code",
   "execution_count": 18,
   "metadata": {},
   "outputs": [
    {
     "name": "stdout",
     "output_type": "stream",
     "text": [
      "5246\n",
      "10054\n"
     ]
    }
   ],
   "source": [
    "print(sum(log_prob_diff>0))\n",
    "print(sum(log_prob_diff<0))"
   ]
  },
  {
   "cell_type": "code",
   "execution_count": 19,
   "metadata": {},
   "outputs": [
    {
     "data": {
      "text/plain": [
       "(array([2.000e+00, 0.000e+00, 0.000e+00, 0.000e+00, 0.000e+00, 0.000e+00,\n",
       "        0.000e+00, 0.000e+00, 0.000e+00, 0.000e+00, 0.000e+00, 0.000e+00,\n",
       "        0.000e+00, 0.000e+00, 0.000e+00, 0.000e+00, 1.000e+00, 0.000e+00,\n",
       "        0.000e+00, 0.000e+00, 1.000e+00, 1.000e+00, 0.000e+00, 0.000e+00,\n",
       "        0.000e+00, 1.000e+00, 1.000e+00, 0.000e+00, 0.000e+00, 4.000e+00,\n",
       "        0.000e+00, 0.000e+00, 1.000e+00, 1.000e+00, 2.000e+00, 1.000e+00,\n",
       "        0.000e+00, 1.000e+00, 0.000e+00, 0.000e+00, 2.000e+00, 2.000e+00,\n",
       "        1.000e+00, 1.000e+00, 1.000e+00, 3.000e+00, 4.000e+00, 2.000e+00,\n",
       "        5.000e+00, 1.500e+01, 3.700e+01, 1.350e+02, 3.290e+02, 8.000e+02,\n",
       "        1.644e+03, 2.553e+03, 3.006e+03, 2.706e+03, 1.973e+03, 1.146e+03,\n",
       "        5.510e+02, 2.280e+02, 7.600e+01, 2.300e+01, 1.000e+01, 8.000e+00,\n",
       "        4.000e+00, 2.000e+00, 3.000e+00, 4.000e+00, 0.000e+00, 2.000e+00,\n",
       "        0.000e+00, 1.000e+00, 1.000e+00, 0.000e+00, 2.000e+00, 0.000e+00,\n",
       "        0.000e+00, 1.000e+00, 0.000e+00, 1.000e+00, 0.000e+00, 0.000e+00,\n",
       "        0.000e+00, 0.000e+00, 0.000e+00, 0.000e+00, 0.000e+00, 0.000e+00,\n",
       "        0.000e+00, 0.000e+00, 0.000e+00, 0.000e+00, 0.000e+00, 0.000e+00,\n",
       "        0.000e+00, 0.000e+00, 0.000e+00, 1.000e+00]),\n",
       " array([-41.53104446, -40.80900386, -40.08696326, -39.36492267,\n",
       "        -38.64288207, -37.92084147, -37.19880087, -36.47676027,\n",
       "        -35.75471967, -35.03267908, -34.31063848, -33.58859788,\n",
       "        -32.86655728, -32.14451668, -31.42247609, -30.70043549,\n",
       "        -29.97839489, -29.25635429, -28.53431369, -27.81227309,\n",
       "        -27.0902325 , -26.3681919 , -25.6461513 , -24.9241107 ,\n",
       "        -24.2020701 , -23.4800295 , -22.75798891, -22.03594831,\n",
       "        -21.31390771, -20.59186711, -19.86982651, -19.14778592,\n",
       "        -18.42574532, -17.70370472, -16.98166412, -16.25962352,\n",
       "        -15.53758292, -14.81554233, -14.09350173, -13.37146113,\n",
       "        -12.64942053, -11.92737993, -11.20533934, -10.48329874,\n",
       "         -9.76125814,  -9.03921754,  -8.31717694,  -7.59513634,\n",
       "         -6.87309575,  -6.15105515,  -5.42901455,  -4.70697395,\n",
       "         -3.98493335,  -3.26289275,  -2.54085216,  -1.81881156,\n",
       "         -1.09677096,  -0.37473036,   0.34731024,   1.06935083,\n",
       "          1.79139143,   2.51343203,   3.23547263,   3.95751323,\n",
       "          4.67955383,   5.40159442,   6.12363502,   6.84567562,\n",
       "          7.56771622,   8.28975682,   9.01179741,   9.73383801,\n",
       "         10.45587861,  11.17791921,  11.89995981,  12.62200041,\n",
       "         13.344041  ,  14.0660816 ,  14.7881222 ,  15.5101628 ,\n",
       "         16.2322034 ,  16.95424399,  17.67628459,  18.39832519,\n",
       "         19.12036579,  19.84240639,  20.56444699,  21.28648758,\n",
       "         22.00852818,  22.73056878,  23.45260938,  24.17464998,\n",
       "         24.89669058,  25.61873117,  26.34077177,  27.06281237,\n",
       "         27.78485297,  28.50689357,  29.22893416,  29.95097476,\n",
       "         30.67301536]),\n",
       " <a list of 100 Patch objects>)"
      ]
     },
     "execution_count": 19,
     "metadata": {},
     "output_type": "execute_result"
    },
    {
     "data": {
      "image/png": "[encoded data removed]",
      "text/plain": [
       "<Figure size 432x288 with 1 Axes>"
      ]
     },
     "metadata": {
      "needs_background": "light"
     },
     "output_type": "display_data"
    }
   ],
   "source": [
    "plt.hist(log_prob_diff,bins=100 )"
   ]
  },
  {
   "cell_type": "code",
   "execution_count": 20,
   "metadata": {},
   "outputs": [
    {
     "data": {
      "text/plain": [
       "[<matplotlib.lines.Line2D at 0x13138ed30>]"
      ]
     },
     "execution_count": 20,
     "metadata": {},
     "output_type": "execute_result"
    },
    {
     "data": {
      "image/png": "[encoded data removed]",
      "text/plain": [
       "<Figure size 432x288 with 1 Axes>"
      ]
     },
     "metadata": {
      "needs_background": "light"
     },
     "output_type": "display_data"
    }
   ],
   "source": [
    "plt.plot(Y_train,log_prob_diff,'o')"
   ]
  },
  {
   "cell_type": "markdown",
   "metadata": {},
   "source": [
    "## fine tune with data A"
   ]
  },
  {
   "cell_type": "code",
   "execution_count": null,
   "metadata": {},
   "outputs": [],
   "source": []
  }
 ],
 "metadata": {
  "kernelspec": {
   "display_name": "Python 3",
   "language": "python",
   "name": "python3"
  },
  "language_info": {
   "codemirror_mode": {
    "name": "ipython",
    "version": 3
   },
   "file_extension": ".py",
   "mimetype": "text/x-python",
   "name": "python",
   "nbconvert_exporter": "python",
   "pygments_lexer": "ipython3",
   "version": "3.7.1"
  }
 },
 "nbformat": 4,
 "nbformat_minor": 2
}
